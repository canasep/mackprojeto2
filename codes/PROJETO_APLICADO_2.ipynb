{
  "nbformat": 4,
  "nbformat_minor": 0,
  "metadata": {
    "colab": {
      "provenance": [],
      "include_colab_link": true
    },
    "kernelspec": {
      "name": "python3",
      "display_name": "Python 3"
    },
    "language_info": {
      "name": "python"
    }
  },
  "cells": [
    {
      "cell_type": "markdown",
      "metadata": {
        "id": "view-in-github",
        "colab_type": "text"
      },
      "source": [
        "<a href=\"https://colab.research.google.com/github/canasep/mackprojeto2/blob/main/codes/PROJETO_APLICADO_2.ipynb\" target=\"_parent\"><img src=\"https://colab.research.google.com/assets/colab-badge.svg\" alt=\"Open In Colab\"/></a>"
      ]
    },
    {
      "cell_type": "markdown",
      "source": [
        "*NESTA ETAPA IREMOS CLONAR O GITHUB NO COLLAB*"
      ],
      "metadata": {
        "id": "rVtEn2Bb87RA"
      }
    },
    {
      "cell_type": "code",
      "execution_count": 1,
      "metadata": {
        "id": "iG62Ffdi8W6N",
        "colab": {
          "base_uri": "https://localhost:8080/"
        },
        "outputId": "c8d14b36-23f6-4681-fc0e-3f63026b5797"
      },
      "outputs": [
        {
          "output_type": "stream",
          "name": "stdout",
          "text": [
            "Cloning into 'mackprojeto2'...\n",
            "remote: Enumerating objects: 91, done.\u001b[K\n",
            "remote: Counting objects: 100% (91/91), done.\u001b[K\n",
            "remote: Compressing objects: 100% (79/79), done.\u001b[K\n",
            "remote: Total 91 (delta 28), reused 0 (delta 0), pack-reused 0 (from 0)\u001b[K\n",
            "Receiving objects: 100% (91/91), 4.99 MiB | 14.12 MiB/s, done.\n",
            "Resolving deltas: 100% (28/28), done.\n"
          ]
        }
      ],
      "source": [
        "!git clone https://github.com/canasep/mackprojeto2.git"
      ]
    },
    {
      "cell_type": "markdown",
      "source": [
        "**IMPORTAÇÃO DA DATABASE DO KAGGLE**"
      ],
      "metadata": {
        "id": "9U8j1ebyA3lE"
      }
    },
    {
      "cell_type": "code",
      "source": [
        "import kagglehub\n",
        "import os\n",
        "\n",
        "# Download latest version\n",
        "path = kagglehub.dataset_download(\"ikramshah512/amazon-products-sales-dataset-42k-items-2025\")\n",
        "\n",
        "print(\"Caminho para os arquivos importados:\", path)\n",
        "print(os.listdir(path))"
      ],
      "metadata": {
        "colab": {
          "base_uri": "https://localhost:8080/"
        },
        "id": "QsN9J3cNAysm",
        "outputId": "188e5d25-053a-4007-8b27-cf9cf2dc68bf"
      },
      "execution_count": 2,
      "outputs": [
        {
          "output_type": "stream",
          "name": "stdout",
          "text": [
            "Using Colab cache for faster access to the 'amazon-products-sales-dataset-42k-items-2025' dataset.\n",
            "Caminho para os arquivos importados: /kaggle/input/amazon-products-sales-dataset-42k-items-2025\n",
            "['amazon_products_sales_data_cleaned.csv', 'amazon_products_sales_data_uncleaned.csv']\n"
          ]
        }
      ]
    },
    {
      "cell_type": "markdown",
      "source": [
        "**CRIAÇÃO DO DATASET A PARTIR DO CSV CRÚ**"
      ],
      "metadata": {
        "id": "voi1jbAF9yxm"
      }
    },
    {
      "cell_type": "code",
      "source": [
        "# IMPORTAÇÃO DO CSV E CRIAÇÃO DO DATASET\n",
        "\n",
        "## IMPORTANDO PACOTE PANDAS\n",
        "import pandas as pd\n",
        "\n",
        "### CAMINHO PARA O ARQUIVO CRÚ\n",
        "file_path = '/kaggle/input/amazon-products-sales-dataset-42k-items-2025/amazon_products_sales_data_uncleaned.csv'\n",
        "\n",
        "### CRIAÇÃO DO DATAFRAME\n",
        "try:\n",
        "    df = pd.read_csv(file_path)\n",
        "    print(\"Dataset criado com sucesso a partir do arquivo selecionado!\")\n",
        "except Exception as e:\n",
        "    print(f\"Erro ao criar o dataset: {e}\")"
      ],
      "metadata": {
        "colab": {
          "base_uri": "https://localhost:8080/"
        },
        "id": "rA4yH3lsBHyW",
        "outputId": "3c42eb67-d26f-4052-dffd-0dc2b2f05a77"
      },
      "execution_count": 3,
      "outputs": [
        {
          "output_type": "stream",
          "name": "stdout",
          "text": [
            "Dataset criado com sucesso a partir do arquivo selecionado!\n"
          ]
        }
      ]
    },
    {
      "cell_type": "markdown",
      "source": [
        "**IMPRESSÃO DO HEAD DO DATASET DF**"
      ],
      "metadata": {
        "id": "eSMvkZK3-Wcf"
      }
    },
    {
      "cell_type": "code",
      "source": [
        "# IMPRESSÃO DO HEAD DO DATASET DF\n",
        "\n",
        "df.head()\n"
      ],
      "metadata": {
        "colab": {
          "base_uri": "https://localhost:8080/",
          "height": 660
        },
        "id": "SWVNUsHa-hZE",
        "outputId": "fa638c92-3d8f-464a-a3f7-29c17f9fdaba"
      },
      "execution_count": 4,
      "outputs": [
        {
          "output_type": "execute_result",
          "data": {
            "text/plain": [
              "                                               title              rating  \\\n",
              "0  BOYA BOYALINK 2 Wireless Lavalier Microphone f...  4.6 out of 5 stars   \n",
              "1  LISEN USB C to Lightning Cable, 240W 4 in 1 Ch...  4.3 out of 5 stars   \n",
              "2  DJI Mic 2 (2 TX + 1 RX + Charging Case), Wirel...  4.6 out of 5 stars   \n",
              "3  Apple AirPods Pro 2 Wireless Earbuds, Active N...  4.6 out of 5 stars   \n",
              "4  Apple AirTag 4 Pack. Keep Track of and find Yo...  4.8 out of 5 stars   \n",
              "\n",
              "  number_of_reviews       bought_in_last_month current/discounted_price  \\\n",
              "0               375  300+ bought in past month                    89.68   \n",
              "1             2,457   6K+ bought in past month                     9.99   \n",
              "2             3,044   2K+ bought in past month                   314.00   \n",
              "3            35,882  10K+ bought in past month                      NaN   \n",
              "4            28,988  10K+ bought in past month                      NaN   \n",
              "\n",
              "               price_on_variant listed_price is_best_seller is_sponsored  \\\n",
              "0   basic variant price: 2.4GHz      $159.00       No Badge    Sponsored   \n",
              "1      basic variant price: nan       $15.99       No Badge    Sponsored   \n",
              "2      basic variant price: nan      $349.00       No Badge    Sponsored   \n",
              "3  basic variant price: $162.24  No Discount    Best Seller      Organic   \n",
              "4   basic variant price: $72.74  No Discount       No Badge      Organic   \n",
              "\n",
              "             is_couponed buy_box_availability      delivery_details  \\\n",
              "0  Save 15%  with coupon          Add to cart   Delivery Mon, Sep 1   \n",
              "1              No Coupon          Add to cart  Delivery Fri, Aug 29   \n",
              "2              No Coupon          Add to cart   Delivery Mon, Sep 1   \n",
              "3              No Coupon                  NaN                   NaN   \n",
              "4              No Coupon                  NaN                   NaN   \n",
              "\n",
              "  sustainability_badges                                          image_url  \\\n",
              "0         Carbon impact  https://m.media-amazon.com/images/I/71pAqiVEs3...   \n",
              "1                   NaN  https://m.media-amazon.com/images/I/61nbF6aVIP...   \n",
              "2                   NaN  https://m.media-amazon.com/images/I/61h78MEXoj...   \n",
              "3                   NaN  https://m.media-amazon.com/images/I/61SUj2aKoE...   \n",
              "4                   NaN  https://m.media-amazon.com/images/I/61bMNCeAUA...   \n",
              "\n",
              "                                         product_url         collected_at  \n",
              "0  /sspa/click?ie=UTF8&spc=MTo4NzEzNDY2NTQ5NDYxND...  2025-08-21 11:14:29  \n",
              "1  /sspa/click?ie=UTF8&spc=MTo4NzEzNDY2NTQ5NDYxND...  2025-08-21 11:14:29  \n",
              "2  /sspa/click?ie=UTF8&spc=MTo4NzEzNDY2NTQ5NDYxND...  2025-08-21 11:14:29  \n",
              "3  /Apple-Cancellation-Transparency-Personalized-...  2025-08-21 11:14:29  \n",
              "4  /Apple-MX542LL-A-AirTag-Pack/dp/B0D54JZTHY/ref...  2025-08-21 11:14:29  "
            ],
            "text/html": [
              "\n",
              "  <div id=\"df-42ea25df-28bd-45b2-8d17-1e5c009aefc0\" class=\"colab-df-container\">\n",
              "    <div>\n",
              "<style scoped>\n",
              "    .dataframe tbody tr th:only-of-type {\n",
              "        vertical-align: middle;\n",
              "    }\n",
              "\n",
              "    .dataframe tbody tr th {\n",
              "        vertical-align: top;\n",
              "    }\n",
              "\n",
              "    .dataframe thead th {\n",
              "        text-align: right;\n",
              "    }\n",
              "</style>\n",
              "<table border=\"1\" class=\"dataframe\">\n",
              "  <thead>\n",
              "    <tr style=\"text-align: right;\">\n",
              "      <th></th>\n",
              "      <th>title</th>\n",
              "      <th>rating</th>\n",
              "      <th>number_of_reviews</th>\n",
              "      <th>bought_in_last_month</th>\n",
              "      <th>current/discounted_price</th>\n",
              "      <th>price_on_variant</th>\n",
              "      <th>listed_price</th>\n",
              "      <th>is_best_seller</th>\n",
              "      <th>is_sponsored</th>\n",
              "      <th>is_couponed</th>\n",
              "      <th>buy_box_availability</th>\n",
              "      <th>delivery_details</th>\n",
              "      <th>sustainability_badges</th>\n",
              "      <th>image_url</th>\n",
              "      <th>product_url</th>\n",
              "      <th>collected_at</th>\n",
              "    </tr>\n",
              "  </thead>\n",
              "  <tbody>\n",
              "    <tr>\n",
              "      <th>0</th>\n",
              "      <td>BOYA BOYALINK 2 Wireless Lavalier Microphone f...</td>\n",
              "      <td>4.6 out of 5 stars</td>\n",
              "      <td>375</td>\n",
              "      <td>300+ bought in past month</td>\n",
              "      <td>89.68</td>\n",
              "      <td>basic variant price: 2.4GHz</td>\n",
              "      <td>$159.00</td>\n",
              "      <td>No Badge</td>\n",
              "      <td>Sponsored</td>\n",
              "      <td>Save 15%  with coupon</td>\n",
              "      <td>Add to cart</td>\n",
              "      <td>Delivery Mon, Sep 1</td>\n",
              "      <td>Carbon impact</td>\n",
              "      <td>https://m.media-amazon.com/images/I/71pAqiVEs3...</td>\n",
              "      <td>/sspa/click?ie=UTF8&amp;spc=MTo4NzEzNDY2NTQ5NDYxND...</td>\n",
              "      <td>2025-08-21 11:14:29</td>\n",
              "    </tr>\n",
              "    <tr>\n",
              "      <th>1</th>\n",
              "      <td>LISEN USB C to Lightning Cable, 240W 4 in 1 Ch...</td>\n",
              "      <td>4.3 out of 5 stars</td>\n",
              "      <td>2,457</td>\n",
              "      <td>6K+ bought in past month</td>\n",
              "      <td>9.99</td>\n",
              "      <td>basic variant price: nan</td>\n",
              "      <td>$15.99</td>\n",
              "      <td>No Badge</td>\n",
              "      <td>Sponsored</td>\n",
              "      <td>No Coupon</td>\n",
              "      <td>Add to cart</td>\n",
              "      <td>Delivery Fri, Aug 29</td>\n",
              "      <td>NaN</td>\n",
              "      <td>https://m.media-amazon.com/images/I/61nbF6aVIP...</td>\n",
              "      <td>/sspa/click?ie=UTF8&amp;spc=MTo4NzEzNDY2NTQ5NDYxND...</td>\n",
              "      <td>2025-08-21 11:14:29</td>\n",
              "    </tr>\n",
              "    <tr>\n",
              "      <th>2</th>\n",
              "      <td>DJI Mic 2 (2 TX + 1 RX + Charging Case), Wirel...</td>\n",
              "      <td>4.6 out of 5 stars</td>\n",
              "      <td>3,044</td>\n",
              "      <td>2K+ bought in past month</td>\n",
              "      <td>314.00</td>\n",
              "      <td>basic variant price: nan</td>\n",
              "      <td>$349.00</td>\n",
              "      <td>No Badge</td>\n",
              "      <td>Sponsored</td>\n",
              "      <td>No Coupon</td>\n",
              "      <td>Add to cart</td>\n",
              "      <td>Delivery Mon, Sep 1</td>\n",
              "      <td>NaN</td>\n",
              "      <td>https://m.media-amazon.com/images/I/61h78MEXoj...</td>\n",
              "      <td>/sspa/click?ie=UTF8&amp;spc=MTo4NzEzNDY2NTQ5NDYxND...</td>\n",
              "      <td>2025-08-21 11:14:29</td>\n",
              "    </tr>\n",
              "    <tr>\n",
              "      <th>3</th>\n",
              "      <td>Apple AirPods Pro 2 Wireless Earbuds, Active N...</td>\n",
              "      <td>4.6 out of 5 stars</td>\n",
              "      <td>35,882</td>\n",
              "      <td>10K+ bought in past month</td>\n",
              "      <td>NaN</td>\n",
              "      <td>basic variant price: $162.24</td>\n",
              "      <td>No Discount</td>\n",
              "      <td>Best Seller</td>\n",
              "      <td>Organic</td>\n",
              "      <td>No Coupon</td>\n",
              "      <td>NaN</td>\n",
              "      <td>NaN</td>\n",
              "      <td>NaN</td>\n",
              "      <td>https://m.media-amazon.com/images/I/61SUj2aKoE...</td>\n",
              "      <td>/Apple-Cancellation-Transparency-Personalized-...</td>\n",
              "      <td>2025-08-21 11:14:29</td>\n",
              "    </tr>\n",
              "    <tr>\n",
              "      <th>4</th>\n",
              "      <td>Apple AirTag 4 Pack. Keep Track of and find Yo...</td>\n",
              "      <td>4.8 out of 5 stars</td>\n",
              "      <td>28,988</td>\n",
              "      <td>10K+ bought in past month</td>\n",
              "      <td>NaN</td>\n",
              "      <td>basic variant price: $72.74</td>\n",
              "      <td>No Discount</td>\n",
              "      <td>No Badge</td>\n",
              "      <td>Organic</td>\n",
              "      <td>No Coupon</td>\n",
              "      <td>NaN</td>\n",
              "      <td>NaN</td>\n",
              "      <td>NaN</td>\n",
              "      <td>https://m.media-amazon.com/images/I/61bMNCeAUA...</td>\n",
              "      <td>/Apple-MX542LL-A-AirTag-Pack/dp/B0D54JZTHY/ref...</td>\n",
              "      <td>2025-08-21 11:14:29</td>\n",
              "    </tr>\n",
              "  </tbody>\n",
              "</table>\n",
              "</div>\n",
              "    <div class=\"colab-df-buttons\">\n",
              "\n",
              "  <div class=\"colab-df-container\">\n",
              "    <button class=\"colab-df-convert\" onclick=\"convertToInteractive('df-42ea25df-28bd-45b2-8d17-1e5c009aefc0')\"\n",
              "            title=\"Convert this dataframe to an interactive table.\"\n",
              "            style=\"display:none;\">\n",
              "\n",
              "  <svg xmlns=\"http://www.w3.org/2000/svg\" height=\"24px\" viewBox=\"0 -960 960 960\">\n",
              "    <path d=\"M120-120v-720h720v720H120Zm60-500h600v-160H180v160Zm220 220h160v-160H400v160Zm0 220h160v-160H400v160ZM180-400h160v-160H180v160Zm440 0h160v-160H620v160ZM180-180h160v-160H180v160Zm440 0h160v-160H620v160Z\"/>\n",
              "  </svg>\n",
              "    </button>\n",
              "\n",
              "  <style>\n",
              "    .colab-df-container {\n",
              "      display:flex;\n",
              "      gap: 12px;\n",
              "    }\n",
              "\n",
              "    .colab-df-convert {\n",
              "      background-color: #E8F0FE;\n",
              "      border: none;\n",
              "      border-radius: 50%;\n",
              "      cursor: pointer;\n",
              "      display: none;\n",
              "      fill: #1967D2;\n",
              "      height: 32px;\n",
              "      padding: 0 0 0 0;\n",
              "      width: 32px;\n",
              "    }\n",
              "\n",
              "    .colab-df-convert:hover {\n",
              "      background-color: #E2EBFA;\n",
              "      box-shadow: 0px 1px 2px rgba(60, 64, 67, 0.3), 0px 1px 3px 1px rgba(60, 64, 67, 0.15);\n",
              "      fill: #174EA6;\n",
              "    }\n",
              "\n",
              "    .colab-df-buttons div {\n",
              "      margin-bottom: 4px;\n",
              "    }\n",
              "\n",
              "    [theme=dark] .colab-df-convert {\n",
              "      background-color: #3B4455;\n",
              "      fill: #D2E3FC;\n",
              "    }\n",
              "\n",
              "    [theme=dark] .colab-df-convert:hover {\n",
              "      background-color: #434B5C;\n",
              "      box-shadow: 0px 1px 3px 1px rgba(0, 0, 0, 0.15);\n",
              "      filter: drop-shadow(0px 1px 2px rgba(0, 0, 0, 0.3));\n",
              "      fill: #FFFFFF;\n",
              "    }\n",
              "  </style>\n",
              "\n",
              "    <script>\n",
              "      const buttonEl =\n",
              "        document.querySelector('#df-42ea25df-28bd-45b2-8d17-1e5c009aefc0 button.colab-df-convert');\n",
              "      buttonEl.style.display =\n",
              "        google.colab.kernel.accessAllowed ? 'block' : 'none';\n",
              "\n",
              "      async function convertToInteractive(key) {\n",
              "        const element = document.querySelector('#df-42ea25df-28bd-45b2-8d17-1e5c009aefc0');\n",
              "        const dataTable =\n",
              "          await google.colab.kernel.invokeFunction('convertToInteractive',\n",
              "                                                    [key], {});\n",
              "        if (!dataTable) return;\n",
              "\n",
              "        const docLinkHtml = 'Like what you see? Visit the ' +\n",
              "          '<a target=\"_blank\" href=https://colab.research.google.com/notebooks/data_table.ipynb>data table notebook</a>'\n",
              "          + ' to learn more about interactive tables.';\n",
              "        element.innerHTML = '';\n",
              "        dataTable['output_type'] = 'display_data';\n",
              "        await google.colab.output.renderOutput(dataTable, element);\n",
              "        const docLink = document.createElement('div');\n",
              "        docLink.innerHTML = docLinkHtml;\n",
              "        element.appendChild(docLink);\n",
              "      }\n",
              "    </script>\n",
              "  </div>\n",
              "\n",
              "\n",
              "    <div id=\"df-d901181f-96a7-4a5e-b0e3-2d9c40a40f39\">\n",
              "      <button class=\"colab-df-quickchart\" onclick=\"quickchart('df-d901181f-96a7-4a5e-b0e3-2d9c40a40f39')\"\n",
              "                title=\"Suggest charts\"\n",
              "                style=\"display:none;\">\n",
              "\n",
              "<svg xmlns=\"http://www.w3.org/2000/svg\" height=\"24px\"viewBox=\"0 0 24 24\"\n",
              "     width=\"24px\">\n",
              "    <g>\n",
              "        <path d=\"M19 3H5c-1.1 0-2 .9-2 2v14c0 1.1.9 2 2 2h14c1.1 0 2-.9 2-2V5c0-1.1-.9-2-2-2zM9 17H7v-7h2v7zm4 0h-2V7h2v10zm4 0h-2v-4h2v4z\"/>\n",
              "    </g>\n",
              "</svg>\n",
              "      </button>\n",
              "\n",
              "<style>\n",
              "  .colab-df-quickchart {\n",
              "      --bg-color: #E8F0FE;\n",
              "      --fill-color: #1967D2;\n",
              "      --hover-bg-color: #E2EBFA;\n",
              "      --hover-fill-color: #174EA6;\n",
              "      --disabled-fill-color: #AAA;\n",
              "      --disabled-bg-color: #DDD;\n",
              "  }\n",
              "\n",
              "  [theme=dark] .colab-df-quickchart {\n",
              "      --bg-color: #3B4455;\n",
              "      --fill-color: #D2E3FC;\n",
              "      --hover-bg-color: #434B5C;\n",
              "      --hover-fill-color: #FFFFFF;\n",
              "      --disabled-bg-color: #3B4455;\n",
              "      --disabled-fill-color: #666;\n",
              "  }\n",
              "\n",
              "  .colab-df-quickchart {\n",
              "    background-color: var(--bg-color);\n",
              "    border: none;\n",
              "    border-radius: 50%;\n",
              "    cursor: pointer;\n",
              "    display: none;\n",
              "    fill: var(--fill-color);\n",
              "    height: 32px;\n",
              "    padding: 0;\n",
              "    width: 32px;\n",
              "  }\n",
              "\n",
              "  .colab-df-quickchart:hover {\n",
              "    background-color: var(--hover-bg-color);\n",
              "    box-shadow: 0 1px 2px rgba(60, 64, 67, 0.3), 0 1px 3px 1px rgba(60, 64, 67, 0.15);\n",
              "    fill: var(--button-hover-fill-color);\n",
              "  }\n",
              "\n",
              "  .colab-df-quickchart-complete:disabled,\n",
              "  .colab-df-quickchart-complete:disabled:hover {\n",
              "    background-color: var(--disabled-bg-color);\n",
              "    fill: var(--disabled-fill-color);\n",
              "    box-shadow: none;\n",
              "  }\n",
              "\n",
              "  .colab-df-spinner {\n",
              "    border: 2px solid var(--fill-color);\n",
              "    border-color: transparent;\n",
              "    border-bottom-color: var(--fill-color);\n",
              "    animation:\n",
              "      spin 1s steps(1) infinite;\n",
              "  }\n",
              "\n",
              "  @keyframes spin {\n",
              "    0% {\n",
              "      border-color: transparent;\n",
              "      border-bottom-color: var(--fill-color);\n",
              "      border-left-color: var(--fill-color);\n",
              "    }\n",
              "    20% {\n",
              "      border-color: transparent;\n",
              "      border-left-color: var(--fill-color);\n",
              "      border-top-color: var(--fill-color);\n",
              "    }\n",
              "    30% {\n",
              "      border-color: transparent;\n",
              "      border-left-color: var(--fill-color);\n",
              "      border-top-color: var(--fill-color);\n",
              "      border-right-color: var(--fill-color);\n",
              "    }\n",
              "    40% {\n",
              "      border-color: transparent;\n",
              "      border-right-color: var(--fill-color);\n",
              "      border-top-color: var(--fill-color);\n",
              "    }\n",
              "    60% {\n",
              "      border-color: transparent;\n",
              "      border-right-color: var(--fill-color);\n",
              "    }\n",
              "    80% {\n",
              "      border-color: transparent;\n",
              "      border-right-color: var(--fill-color);\n",
              "      border-bottom-color: var(--fill-color);\n",
              "    }\n",
              "    90% {\n",
              "      border-color: transparent;\n",
              "      border-bottom-color: var(--fill-color);\n",
              "    }\n",
              "  }\n",
              "</style>\n",
              "\n",
              "      <script>\n",
              "        async function quickchart(key) {\n",
              "          const quickchartButtonEl =\n",
              "            document.querySelector('#' + key + ' button');\n",
              "          quickchartButtonEl.disabled = true;  // To prevent multiple clicks.\n",
              "          quickchartButtonEl.classList.add('colab-df-spinner');\n",
              "          try {\n",
              "            const charts = await google.colab.kernel.invokeFunction(\n",
              "                'suggestCharts', [key], {});\n",
              "          } catch (error) {\n",
              "            console.error('Error during call to suggestCharts:', error);\n",
              "          }\n",
              "          quickchartButtonEl.classList.remove('colab-df-spinner');\n",
              "          quickchartButtonEl.classList.add('colab-df-quickchart-complete');\n",
              "        }\n",
              "        (() => {\n",
              "          let quickchartButtonEl =\n",
              "            document.querySelector('#df-d901181f-96a7-4a5e-b0e3-2d9c40a40f39 button');\n",
              "          quickchartButtonEl.style.display =\n",
              "            google.colab.kernel.accessAllowed ? 'block' : 'none';\n",
              "        })();\n",
              "      </script>\n",
              "    </div>\n",
              "\n",
              "    </div>\n",
              "  </div>\n"
            ],
            "application/vnd.google.colaboratory.intrinsic+json": {
              "type": "dataframe",
              "variable_name": "df",
              "summary": "{\n  \"name\": \"df\",\n  \"rows\": 42675,\n  \"fields\": [\n    {\n      \"column\": \"title\",\n      \"properties\": {\n        \"dtype\": \"category\",\n        \"num_unique_values\": 8808,\n        \"samples\": [\n          \"Targus USB-C Dual HDMI 4K Docking Station with 100W PD Pass-Thru - Expand Your HDMI, USB, and Ethernet Connections On-The-Go (DOCK423TT)\",\n          \"WAVLINK USB C and USB 3.0 to Dual 4K DisplayPort/HDMI Adapter, Displaylink Monitor Splitter Extended Display for Dual Monitor 4K@60Hz, HDMI/DP Splitter Compatible with Mac M1-M4,Window Laptop-Silver\",\n          \"BATTRY ALKLN DURA AA CD8\"\n        ],\n        \"semantic_type\": \"\",\n        \"description\": \"\"\n      }\n    },\n    {\n      \"column\": \"rating\",\n      \"properties\": {\n        \"dtype\": \"category\",\n        \"num_unique_values\": 31,\n        \"samples\": [\n          \"2.7 out of 5 stars\",\n          \"3.4 out of 5 stars\",\n          \"1.0 out of 5 stars\"\n        ],\n        \"semantic_type\": \"\",\n        \"description\": \"\"\n      }\n    },\n    {\n      \"column\": \"number_of_reviews\",\n      \"properties\": {\n        \"dtype\": \"category\",\n        \"num_unique_values\": 4413,\n        \"samples\": [\n          \"223\",\n          \"14,506\",\n          \"2,049\"\n        ],\n        \"semantic_type\": \"\",\n        \"description\": \"\"\n      }\n    },\n    {\n      \"column\": \"bought_in_last_month\",\n      \"properties\": {\n        \"dtype\": \"category\",\n        \"num_unique_values\": 59,\n        \"samples\": [\n          \"300+ bought in past month\",\n          \"100+ bought in past month\",\n          \"More Buying Choices\"\n        ],\n        \"semantic_type\": \"\",\n        \"description\": \"\"\n      }\n    },\n    {\n      \"column\": \"current/discounted_price\",\n      \"properties\": {\n        \"dtype\": \"category\",\n        \"num_unique_values\": 2576,\n        \"samples\": [\n          \"17.88\",\n          \"11.47\",\n          \"107.97\"\n        ],\n        \"semantic_type\": \"\",\n        \"description\": \"\"\n      }\n    },\n    {\n      \"column\": \"price_on_variant\",\n      \"properties\": {\n        \"dtype\": \"category\",\n        \"num_unique_values\": 3466,\n        \"samples\": [\n          \"basic variant price: $17.49\",\n          \"basic variant price: $13.94\",\n          \"basic variant price: $167.99\"\n        ],\n        \"semantic_type\": \"\",\n        \"description\": \"\"\n      }\n    },\n    {\n      \"column\": \"listed_price\",\n      \"properties\": {\n        \"dtype\": \"category\",\n        \"num_unique_values\": 911,\n        \"samples\": [\n          \"$275.99\",\n          \"$161.99\",\n          \"$6.38\"\n        ],\n        \"semantic_type\": \"\",\n        \"description\": \"\"\n      }\n    },\n    {\n      \"column\": \"is_best_seller\",\n      \"properties\": {\n        \"dtype\": \"category\",\n        \"num_unique_values\": 12,\n        \"samples\": [\n          \"Save 10%\",\n          \"Ends in\",\n          \"No Badge\"\n        ],\n        \"semantic_type\": \"\",\n        \"description\": \"\"\n      }\n    },\n    {\n      \"column\": \"is_sponsored\",\n      \"properties\": {\n        \"dtype\": \"category\",\n        \"num_unique_values\": 2,\n        \"samples\": [\n          \"Organic\",\n          \"Sponsored\"\n        ],\n        \"semantic_type\": \"\",\n        \"description\": \"\"\n      }\n    },\n    {\n      \"column\": \"is_couponed\",\n      \"properties\": {\n        \"dtype\": \"category\",\n        \"num_unique_values\": 42,\n        \"samples\": [\n          \"Save $50.00  with coupon\",\n          \"Save 6%  with coupon\"\n        ],\n        \"semantic_type\": \"\",\n        \"description\": \"\"\n      }\n    },\n    {\n      \"column\": \"buy_box_availability\",\n      \"properties\": {\n        \"dtype\": \"category\",\n        \"num_unique_values\": 1,\n        \"samples\": [\n          \"Add to cart\"\n        ],\n        \"semantic_type\": \"\",\n        \"description\": \"\"\n      }\n    },\n    {\n      \"column\": \"delivery_details\",\n      \"properties\": {\n        \"dtype\": \"category\",\n        \"num_unique_values\": 298,\n        \"samples\": [\n          \"$17.49 delivery\"\n        ],\n        \"semantic_type\": \"\",\n        \"description\": \"\"\n      }\n    },\n    {\n      \"column\": \"sustainability_badges\",\n      \"properties\": {\n        \"dtype\": \"category\",\n        \"num_unique_values\": 16,\n        \"samples\": [\n          \"Carbon impact\"\n        ],\n        \"semantic_type\": \"\",\n        \"description\": \"\"\n      }\n    },\n    {\n      \"column\": \"image_url\",\n      \"properties\": {\n        \"dtype\": \"category\",\n        \"num_unique_values\": 8038,\n        \"samples\": [\n          \"https://m.media-amazon.com/images/I/719dkqqyBjL._AC_UL320_.jpg\"\n        ],\n        \"semantic_type\": \"\",\n        \"description\": \"\"\n      }\n    },\n    {\n      \"column\": \"product_url\",\n      \"properties\": {\n        \"dtype\": \"string\",\n        \"num_unique_values\": 40606,\n        \"samples\": [\n          \"/Astro-A30-XBOX-White-Gaming-Console/dp/B09NNJYGB4/ref=sr_1_21800?dib=eyJ2IjoiMSJ9._J2ujxrQnUFwhM7dsrEXna3V9_b5y27QvdtOXNCJHTFcVfTHsgq2_kW2Hf-6GWz6Jsyytvn2dy9Swv2P8xa4b-CcfZ1560SrT0XNwKWS-2YPA7k1YhTmMXBbx8mFmIgCNfC6Un5kw1Fd5i7VZcDV1twwPhV3N2mQT3B3lfF2Jg1bmaOGzEU5dyrsIDfK8WXrIwpK57LP51c8vpAvWFJ4fAEA8PSgWBK_t1ttKD2m30-zXUXWEVPBHipNzVvY928LwZe4HWezEGIr-KHkqR7U2ZiaCooa3Q8S4X-6DkbD3ik.uVKeC1WfiPsPyGaPX0G4rj2REqVlbfiOfGyATOmImA0&dib_tag=se&qid=1756306945&refinements=p_n_g-101014971069111%3A119653281011&s=electronics&sr=1-21800\"\n        ],\n        \"semantic_type\": \"\",\n        \"description\": \"\"\n      }\n    },\n    {\n      \"column\": \"collected_at\",\n      \"properties\": {\n        \"dtype\": \"object\",\n        \"num_unique_values\": 1559,\n        \"samples\": [\n          \"2025-08-30 19:48:45\"\n        ],\n        \"semantic_type\": \"\",\n        \"description\": \"\"\n      }\n    }\n  ]\n}"
            }
          },
          "metadata": {},
          "execution_count": 4
        }
      ]
    },
    {
      "cell_type": "code",
      "source": [
        "df.shape"
      ],
      "metadata": {
        "colab": {
          "base_uri": "https://localhost:8080/"
        },
        "id": "FHLtn1blOfKi",
        "outputId": "7c6394fb-4aff-4787-9956-7b248cc486d6"
      },
      "execution_count": null,
      "outputs": [
        {
          "output_type": "execute_result",
          "data": {
            "text/plain": [
              "(42675, 16)"
            ]
          },
          "metadata": {},
          "execution_count": 8
        }
      ]
    },
    {
      "cell_type": "code",
      "source": [
        "import pandas as pd\n",
        "import numpy as np\n",
        "\n",
        "df = df.drop(columns=[\"product_url\", \"image_url\", \"delivery_details\", \"price_on_variant\"])\n",
        "print(\"Colunas Limpas\")"
      ],
      "metadata": {
        "colab": {
          "base_uri": "https://localhost:8080/"
        },
        "id": "lhrfstr8OmJB",
        "outputId": "d69fd36f-0507-41ae-aa65-abd870825329"
      },
      "execution_count": 5,
      "outputs": [
        {
          "output_type": "stream",
          "name": "stdout",
          "text": [
            "Colunas Limpas\n"
          ]
        }
      ]
    },
    {
      "cell_type": "code",
      "source": [
        "df[\"bought_in_last_month\"] = df[\"bought_in_last_month\"].str.replace(r\"\\+.*\", \"\", regex=True)\n",
        "df[\"bought_in_last_month\"] = df[\"bought_in_last_month\"].str.replace(r\"K\", \"000\", regex=True)\n",
        "df[\"bought_in_last_month\"] = pd.to_numeric(\n",
        "    df[\"bought_in_last_month\"].str.split(\"+\").str[0],\n",
        "    errors=\"coerce\"\n",
        ")\n",
        "print(\"Tratamento da quantidade de vendas no último mês realizada\")"
      ],
      "metadata": {
        "colab": {
          "base_uri": "https://localhost:8080/"
        },
        "id": "cZwazXiJOUcy",
        "outputId": "70372a5b-0c5b-4268-a213-77ecbe50c69e"
      },
      "execution_count": 6,
      "outputs": [
        {
          "output_type": "stream",
          "name": "stdout",
          "text": [
            "Tratamento da quantidade de vendas no último mês realizada\n"
          ]
        }
      ]
    },
    {
      "cell_type": "code",
      "source": [
        "df[\"rating\"] = df[\"rating\"].str[:3]\n",
        "df[\"rating\"] = pd.to_numeric(\n",
        "    df[\"rating\"].str.split(\"+\").str[0],\n",
        "    errors=\"coerce\"\n",
        ")\n",
        "print(\"Tratamento do rating feito, o rating está de 0 a 5\")"
      ],
      "metadata": {
        "id": "W-PC-svtPSfo",
        "outputId": "865e3fa5-f3ee-43cc-c7a7-a8409ce135a4",
        "colab": {
          "base_uri": "https://localhost:8080/"
        }
      },
      "execution_count": 7,
      "outputs": [
        {
          "output_type": "stream",
          "name": "stdout",
          "text": [
            "Tratamento do rating feito, o rating está de 0 a 5\n"
          ]
        }
      ]
    },
    {
      "cell_type": "code",
      "source": [
        "df[\"listed_price_value\"] = (\n",
        "    df[\"listed_price\"]\n",
        "    .str.replace(\"$\", \"\", regex=False)\n",
        "    .str.replace(\" \", \"\", regex=False)\n",
        "    .replace(\"NoDiscount\", \"0\")\n",
        ")\n",
        "df[\"listed_price_value\"] = pd.to_numeric(df[\"listed_price_value\"], errors=\"coerce\").fillna(0)\n",
        "df = df.drop(columns=[\"listed_price\"])\n",
        "print(\"A coluna listed price value foi tratada em uma coluna que apresenta os valores presentes\")"
      ],
      "metadata": {
        "id": "yhqRpqACPevl",
        "outputId": "811ac5a0-36b4-4ca3-b264-d4fd53509bae",
        "colab": {
          "base_uri": "https://localhost:8080/"
        }
      },
      "execution_count": 8,
      "outputs": [
        {
          "output_type": "stream",
          "name": "stdout",
          "text": [
            "A coluna listed price value foi tratada em uma coluna que apresenta os valores presentes\n"
          ]
        }
      ]
    },
    {
      "cell_type": "code",
      "source": [
        "s = df[\"is_couponed\"].fillna(\"\")\n",
        "pct_raw = s.str.extract(r'(\\d+(?:\\.\\d+)?)\\s*%', expand=False)\n",
        "val_raw = s.str.extract(r'\\$\\s*([0-9]+(?:\\.[0-9]+)?)', expand=False)\n",
        "df[\"coupon_discount_percentage\"] = np.where(\n",
        "    pct_raw.notna(), pd.to_numeric(pct_raw, errors=\"coerce\") / 100.0, 0.0\n",
        ")\n",
        "df[\"coupon_discount_value\"] = np.where(\n",
        "    val_raw.notna(), pd.to_numeric(val_raw, errors=\"coerce\"), 0.0\n",
        ")\n",
        "mask_no = s.str.contains(\"No Coupon\", case=False, na=False)\n",
        "df.loc[mask_no, [\"coupon_discount_percentage\", \"coupon_discount_value\"]] = 0.0\n",
        "df = df.drop(columns=[\"is_couponed\"])\n",
        "print(\"Tratamento da coluna is_couponed foi divida em duas colunas, a que oferece desconto em porcentagem e a que oferece desconto em valores absolutos\")\n"
      ],
      "metadata": {
        "id": "8fs2ZQJ8PwuI",
        "outputId": "0e2f3de3-62a2-440e-e376-eda9ac438ace",
        "colab": {
          "base_uri": "https://localhost:8080/"
        }
      },
      "execution_count": 9,
      "outputs": [
        {
          "output_type": "stream",
          "name": "stdout",
          "text": [
            "Tratamento da coluna is_couponed foi divida em duas colunas, a que oferece desconto em porcentagem e a que oferece desconto em valores absolutos\n"
          ]
        }
      ]
    },
    {
      "cell_type": "code",
      "source": [
        "patterns = {\n",
        "    \"energy_efficiency\": r\"\\bEnergy efficiency\\b\",\n",
        "    \"work_with_alexa\": r\"(Works with Alexa|Alexa Built[- ]?in)\",\n",
        "    \"small_business\": r\"\\bSmall Business\\b\",\n",
        "    \"carbon_impact\": r\"\\bCarbon impact\\b\",\n",
        "}\n",
        "\n",
        "s = df[\"sustainability_badges\"].fillna(\"\")\n",
        "\n",
        "for col, rx in patterns.items():\n",
        "    if col.lower() != \"made_in_italy\":  # garante que nunca criamos essa coluna\n",
        "        df[col] = s.str.contains(rx, case=False, na=False).astype(int)\n",
        "\n",
        "df = df.drop(columns=[\"sustainability_badges\"])\n",
        "print(\"Tratamento da coluna de badges feita, agora há colunas binárias\")"
      ],
      "metadata": {
        "id": "-bxhZbcOPwYw",
        "outputId": "c2b1087e-205e-4d25-fe18-587cc4569c73",
        "colab": {
          "base_uri": "https://localhost:8080/"
        }
      },
      "execution_count": 10,
      "outputs": [
        {
          "output_type": "stream",
          "name": "stdout",
          "text": [
            "Tratamento da coluna de badges feita, agora há colunas binárias\n"
          ]
        },
        {
          "output_type": "stream",
          "name": "stderr",
          "text": [
            "/tmp/ipython-input-3371970532.py:12: UserWarning: This pattern is interpreted as a regular expression, and has match groups. To actually get the groups, use str.extract.\n",
            "  df[col] = s.str.contains(rx, case=False, na=False).astype(int)\n"
          ]
        }
      ]
    },
    {
      "cell_type": "code",
      "source": [
        "df = df.rename(columns={\"buy_box_availability\": \"add_to_cart_available\"})\n",
        "\n",
        "df[\"add_to_cart_available\"] = (\n",
        "    df[\"add_to_cart_available\"]\n",
        "    .fillna(\"\")                                 # substitui NaN por string vazia\n",
        "    .str.contains(\"Add to cart\", case=False)    # checa se contém \"Add to cart\"\n",
        "    .astype(int)                                # transforma True/False em 1/0\n",
        ")\n",
        "print(\"Coluna de buy_box_availability só havia uma informação - add to cart - ou - NaaN, então ela foi renomeada para add_to_cart_available e agora é binária, 1 ou 0\")"
      ],
      "metadata": {
        "id": "QgpwKgbJj0fB",
        "outputId": "549290be-a82a-4588-d514-ff687aae2930",
        "colab": {
          "base_uri": "https://localhost:8080/"
        }
      },
      "execution_count": 11,
      "outputs": [
        {
          "output_type": "stream",
          "name": "stdout",
          "text": [
            "Coluna de buy_box_availability só havia uma informação - add to cart - ou - NaaN, então ela foi renomeada para add_to_cart_available e agora é binária, 1 ou 0\n"
          ]
        }
      ]
    },
    {
      "cell_type": "code",
      "source": [
        "df[\"is_sponsored\"] = np.where(df[\"is_sponsored\"] == \"Sponsored\", 1, 0)\n",
        "print(\"A coluna is_sponsored tinha uma string para se era patrocinado ou não, foi tratado, agora é binário com 1 para sponsored e 0 para não\")"
      ],
      "metadata": {
        "id": "GN_CXdMJj1uL",
        "outputId": "42799f31-a78a-4709-8136-88b4767d55c6",
        "colab": {
          "base_uri": "https://localhost:8080/"
        }
      },
      "execution_count": 12,
      "outputs": [
        {
          "output_type": "stream",
          "name": "stdout",
          "text": [
            "A coluna is_sponsored tinha uma string para se era patrocinado ou não, foi tratado, agora é binário com 1 para sponsored e 0 para não\n"
          ]
        }
      ]
    },
    {
      "cell_type": "code",
      "source": [
        "df[\"collected_at\"] = pd.to_datetime(df[\"collected_at\"], errors=\"coerce\")\n",
        "df[\"collected_at\"] = df[\"collected_at\"].dt.month\n",
        "print(\"Mantido só o mês que é a informação crucial da data da coleta, o ano é só 2025\")"
      ],
      "metadata": {
        "id": "BZJMaShEj2M6",
        "outputId": "9f5321bd-66cf-4e6e-a5b8-d61ce25f9e48",
        "colab": {
          "base_uri": "https://localhost:8080/"
        }
      },
      "execution_count": 13,
      "outputs": [
        {
          "output_type": "stream",
          "name": "stdout",
          "text": [
            "Mantido só o mês que é a informação crucial da data da coleta, o ano é só 2025\n"
          ]
        }
      ]
    },
    {
      "cell_type": "code",
      "source": [
        "\n",
        "df[\"best_seller\"] = df[\"is_best_seller\"].str.contains(\"Best Seller\", case=False, na=False).astype(int)\n",
        "\n",
        "df[\"amazon_choice\"] = df[\"is_best_seller\"].str.contains(\"Amazon\", case=False, na=False).astype(int)\n",
        "\n",
        "df[\"best_seller_discount\"] = (\n",
        "    df[\"is_best_seller\"]\n",
        "    .str.extract(r\"Save\\s*(\\d+)%\", expand=False)   # pega o número depois de \"Save\"\n",
        "    .fillna(0)\n",
        "    .astype(int)\n",
        "    / 100.0                                        # normaliza entre 0 e 1\n",
        ")\n",
        "df = df.drop(columns=[\"is_best_seller\"])\n",
        "print(\"Coluna de selo Amazon tratada, criada 2 colunas binárias se é best_seller e se é amazon_choice, e se há desconto do vendedor ativo com o valor do desconto em float\")"
      ],
      "metadata": {
        "id": "ARyf1POYj3h7",
        "outputId": "097efcc7-07f1-4349-a4ea-74d23767a536",
        "colab": {
          "base_uri": "https://localhost:8080/"
        }
      },
      "execution_count": 14,
      "outputs": [
        {
          "output_type": "stream",
          "name": "stdout",
          "text": [
            "Coluna de selo Amazon tratada, criada 2 colunas binárias se é best_seller e se é amazon_choice, e se há desconto do vendedor ativo com o valor do desconto em float\n"
          ]
        }
      ]
    },
    {
      "cell_type": "code",
      "source": [
        "df[\"current/discounted_price\"] = (df[\"current/discounted_price\"].fillna(0))\n",
        "\n",
        "col = \"current/discounted_price\"\n",
        "\n",
        "df[col] = (\n",
        "    df[col]\n",
        "    .astype(str)\n",
        "    .str.strip()\n",
        "    .str.replace(r\"[^\\d\\.\\-]\", \"\", regex=True)\n",
        "    .replace({\"\": None})\n",
        "    .pipe(pd.to_numeric, errors=\"coerce\")\n",
        "    .fillna(0)\n",
        ")\n",
        "\n",
        "df[\"current/discounted_price\"] = pd.to_numeric(df[\"current/discounted_price\"])\n",
        "\n",
        "print(\"Descontos limpos e passados para número\")\n",
        "df.head()"
      ],
      "metadata": {
        "id": "lBEYXsdzj5cg",
        "outputId": "bc874372-7a41-4ed3-91c3-8e81dd3b9917",
        "colab": {
          "base_uri": "https://localhost:8080/",
          "height": 678
        }
      },
      "execution_count": 15,
      "outputs": [
        {
          "output_type": "stream",
          "name": "stdout",
          "text": [
            "Descontos limpos e passados para número\n"
          ]
        },
        {
          "output_type": "execute_result",
          "data": {
            "text/plain": [
              "                                               title  rating  \\\n",
              "0  BOYA BOYALINK 2 Wireless Lavalier Microphone f...     4.6   \n",
              "1  LISEN USB C to Lightning Cable, 240W 4 in 1 Ch...     4.3   \n",
              "2  DJI Mic 2 (2 TX + 1 RX + Charging Case), Wirel...     4.6   \n",
              "3  Apple AirPods Pro 2 Wireless Earbuds, Active N...     4.6   \n",
              "4  Apple AirTag 4 Pack. Keep Track of and find Yo...     4.8   \n",
              "\n",
              "  number_of_reviews  bought_in_last_month  current/discounted_price  \\\n",
              "0               375                 300.0                     89.68   \n",
              "1             2,457                6000.0                      9.99   \n",
              "2             3,044                2000.0                    314.00   \n",
              "3            35,882               10000.0                      0.00   \n",
              "4            28,988               10000.0                      0.00   \n",
              "\n",
              "   is_sponsored  add_to_cart_available  collected_at  listed_price_value  \\\n",
              "0             1                      1             8              159.00   \n",
              "1             1                      1             8               15.99   \n",
              "2             1                      1             8              349.00   \n",
              "3             0                      0             8                0.00   \n",
              "4             0                      0             8                0.00   \n",
              "\n",
              "   coupon_discount_percentage  coupon_discount_value  energy_efficiency  \\\n",
              "0                        0.15                    0.0                  0   \n",
              "1                        0.00                    0.0                  0   \n",
              "2                        0.00                    0.0                  0   \n",
              "3                        0.00                    0.0                  0   \n",
              "4                        0.00                    0.0                  0   \n",
              "\n",
              "   work_with_alexa  small_business  carbon_impact  best_seller  amazon_choice  \\\n",
              "0                0               0              1            0              0   \n",
              "1                0               0              0            0              0   \n",
              "2                0               0              0            0              0   \n",
              "3                0               0              0            1              0   \n",
              "4                0               0              0            0              0   \n",
              "\n",
              "   best_seller_discount  \n",
              "0                   0.0  \n",
              "1                   0.0  \n",
              "2                   0.0  \n",
              "3                   0.0  \n",
              "4                   0.0  "
            ],
            "text/html": [
              "\n",
              "  <div id=\"df-aa561a77-e5ea-4908-adb9-c557b02c3940\" class=\"colab-df-container\">\n",
              "    <div>\n",
              "<style scoped>\n",
              "    .dataframe tbody tr th:only-of-type {\n",
              "        vertical-align: middle;\n",
              "    }\n",
              "\n",
              "    .dataframe tbody tr th {\n",
              "        vertical-align: top;\n",
              "    }\n",
              "\n",
              "    .dataframe thead th {\n",
              "        text-align: right;\n",
              "    }\n",
              "</style>\n",
              "<table border=\"1\" class=\"dataframe\">\n",
              "  <thead>\n",
              "    <tr style=\"text-align: right;\">\n",
              "      <th></th>\n",
              "      <th>title</th>\n",
              "      <th>rating</th>\n",
              "      <th>number_of_reviews</th>\n",
              "      <th>bought_in_last_month</th>\n",
              "      <th>current/discounted_price</th>\n",
              "      <th>is_sponsored</th>\n",
              "      <th>add_to_cart_available</th>\n",
              "      <th>collected_at</th>\n",
              "      <th>listed_price_value</th>\n",
              "      <th>coupon_discount_percentage</th>\n",
              "      <th>coupon_discount_value</th>\n",
              "      <th>energy_efficiency</th>\n",
              "      <th>work_with_alexa</th>\n",
              "      <th>small_business</th>\n",
              "      <th>carbon_impact</th>\n",
              "      <th>best_seller</th>\n",
              "      <th>amazon_choice</th>\n",
              "      <th>best_seller_discount</th>\n",
              "    </tr>\n",
              "  </thead>\n",
              "  <tbody>\n",
              "    <tr>\n",
              "      <th>0</th>\n",
              "      <td>BOYA BOYALINK 2 Wireless Lavalier Microphone f...</td>\n",
              "      <td>4.6</td>\n",
              "      <td>375</td>\n",
              "      <td>300.0</td>\n",
              "      <td>89.68</td>\n",
              "      <td>1</td>\n",
              "      <td>1</td>\n",
              "      <td>8</td>\n",
              "      <td>159.00</td>\n",
              "      <td>0.15</td>\n",
              "      <td>0.0</td>\n",
              "      <td>0</td>\n",
              "      <td>0</td>\n",
              "      <td>0</td>\n",
              "      <td>1</td>\n",
              "      <td>0</td>\n",
              "      <td>0</td>\n",
              "      <td>0.0</td>\n",
              "    </tr>\n",
              "    <tr>\n",
              "      <th>1</th>\n",
              "      <td>LISEN USB C to Lightning Cable, 240W 4 in 1 Ch...</td>\n",
              "      <td>4.3</td>\n",
              "      <td>2,457</td>\n",
              "      <td>6000.0</td>\n",
              "      <td>9.99</td>\n",
              "      <td>1</td>\n",
              "      <td>1</td>\n",
              "      <td>8</td>\n",
              "      <td>15.99</td>\n",
              "      <td>0.00</td>\n",
              "      <td>0.0</td>\n",
              "      <td>0</td>\n",
              "      <td>0</td>\n",
              "      <td>0</td>\n",
              "      <td>0</td>\n",
              "      <td>0</td>\n",
              "      <td>0</td>\n",
              "      <td>0.0</td>\n",
              "    </tr>\n",
              "    <tr>\n",
              "      <th>2</th>\n",
              "      <td>DJI Mic 2 (2 TX + 1 RX + Charging Case), Wirel...</td>\n",
              "      <td>4.6</td>\n",
              "      <td>3,044</td>\n",
              "      <td>2000.0</td>\n",
              "      <td>314.00</td>\n",
              "      <td>1</td>\n",
              "      <td>1</td>\n",
              "      <td>8</td>\n",
              "      <td>349.00</td>\n",
              "      <td>0.00</td>\n",
              "      <td>0.0</td>\n",
              "      <td>0</td>\n",
              "      <td>0</td>\n",
              "      <td>0</td>\n",
              "      <td>0</td>\n",
              "      <td>0</td>\n",
              "      <td>0</td>\n",
              "      <td>0.0</td>\n",
              "    </tr>\n",
              "    <tr>\n",
              "      <th>3</th>\n",
              "      <td>Apple AirPods Pro 2 Wireless Earbuds, Active N...</td>\n",
              "      <td>4.6</td>\n",
              "      <td>35,882</td>\n",
              "      <td>10000.0</td>\n",
              "      <td>0.00</td>\n",
              "      <td>0</td>\n",
              "      <td>0</td>\n",
              "      <td>8</td>\n",
              "      <td>0.00</td>\n",
              "      <td>0.00</td>\n",
              "      <td>0.0</td>\n",
              "      <td>0</td>\n",
              "      <td>0</td>\n",
              "      <td>0</td>\n",
              "      <td>0</td>\n",
              "      <td>1</td>\n",
              "      <td>0</td>\n",
              "      <td>0.0</td>\n",
              "    </tr>\n",
              "    <tr>\n",
              "      <th>4</th>\n",
              "      <td>Apple AirTag 4 Pack. Keep Track of and find Yo...</td>\n",
              "      <td>4.8</td>\n",
              "      <td>28,988</td>\n",
              "      <td>10000.0</td>\n",
              "      <td>0.00</td>\n",
              "      <td>0</td>\n",
              "      <td>0</td>\n",
              "      <td>8</td>\n",
              "      <td>0.00</td>\n",
              "      <td>0.00</td>\n",
              "      <td>0.0</td>\n",
              "      <td>0</td>\n",
              "      <td>0</td>\n",
              "      <td>0</td>\n",
              "      <td>0</td>\n",
              "      <td>0</td>\n",
              "      <td>0</td>\n",
              "      <td>0.0</td>\n",
              "    </tr>\n",
              "  </tbody>\n",
              "</table>\n",
              "</div>\n",
              "    <div class=\"colab-df-buttons\">\n",
              "\n",
              "  <div class=\"colab-df-container\">\n",
              "    <button class=\"colab-df-convert\" onclick=\"convertToInteractive('df-aa561a77-e5ea-4908-adb9-c557b02c3940')\"\n",
              "            title=\"Convert this dataframe to an interactive table.\"\n",
              "            style=\"display:none;\">\n",
              "\n",
              "  <svg xmlns=\"http://www.w3.org/2000/svg\" height=\"24px\" viewBox=\"0 -960 960 960\">\n",
              "    <path d=\"M120-120v-720h720v720H120Zm60-500h600v-160H180v160Zm220 220h160v-160H400v160Zm0 220h160v-160H400v160ZM180-400h160v-160H180v160Zm440 0h160v-160H620v160ZM180-180h160v-160H180v160Zm440 0h160v-160H620v160Z\"/>\n",
              "  </svg>\n",
              "    </button>\n",
              "\n",
              "  <style>\n",
              "    .colab-df-container {\n",
              "      display:flex;\n",
              "      gap: 12px;\n",
              "    }\n",
              "\n",
              "    .colab-df-convert {\n",
              "      background-color: #E8F0FE;\n",
              "      border: none;\n",
              "      border-radius: 50%;\n",
              "      cursor: pointer;\n",
              "      display: none;\n",
              "      fill: #1967D2;\n",
              "      height: 32px;\n",
              "      padding: 0 0 0 0;\n",
              "      width: 32px;\n",
              "    }\n",
              "\n",
              "    .colab-df-convert:hover {\n",
              "      background-color: #E2EBFA;\n",
              "      box-shadow: 0px 1px 2px rgba(60, 64, 67, 0.3), 0px 1px 3px 1px rgba(60, 64, 67, 0.15);\n",
              "      fill: #174EA6;\n",
              "    }\n",
              "\n",
              "    .colab-df-buttons div {\n",
              "      margin-bottom: 4px;\n",
              "    }\n",
              "\n",
              "    [theme=dark] .colab-df-convert {\n",
              "      background-color: #3B4455;\n",
              "      fill: #D2E3FC;\n",
              "    }\n",
              "\n",
              "    [theme=dark] .colab-df-convert:hover {\n",
              "      background-color: #434B5C;\n",
              "      box-shadow: 0px 1px 3px 1px rgba(0, 0, 0, 0.15);\n",
              "      filter: drop-shadow(0px 1px 2px rgba(0, 0, 0, 0.3));\n",
              "      fill: #FFFFFF;\n",
              "    }\n",
              "  </style>\n",
              "\n",
              "    <script>\n",
              "      const buttonEl =\n",
              "        document.querySelector('#df-aa561a77-e5ea-4908-adb9-c557b02c3940 button.colab-df-convert');\n",
              "      buttonEl.style.display =\n",
              "        google.colab.kernel.accessAllowed ? 'block' : 'none';\n",
              "\n",
              "      async function convertToInteractive(key) {\n",
              "        const element = document.querySelector('#df-aa561a77-e5ea-4908-adb9-c557b02c3940');\n",
              "        const dataTable =\n",
              "          await google.colab.kernel.invokeFunction('convertToInteractive',\n",
              "                                                    [key], {});\n",
              "        if (!dataTable) return;\n",
              "\n",
              "        const docLinkHtml = 'Like what you see? Visit the ' +\n",
              "          '<a target=\"_blank\" href=https://colab.research.google.com/notebooks/data_table.ipynb>data table notebook</a>'\n",
              "          + ' to learn more about interactive tables.';\n",
              "        element.innerHTML = '';\n",
              "        dataTable['output_type'] = 'display_data';\n",
              "        await google.colab.output.renderOutput(dataTable, element);\n",
              "        const docLink = document.createElement('div');\n",
              "        docLink.innerHTML = docLinkHtml;\n",
              "        element.appendChild(docLink);\n",
              "      }\n",
              "    </script>\n",
              "  </div>\n",
              "\n",
              "\n",
              "    <div id=\"df-43b904e6-35a3-4188-82fe-e1b800cb04bb\">\n",
              "      <button class=\"colab-df-quickchart\" onclick=\"quickchart('df-43b904e6-35a3-4188-82fe-e1b800cb04bb')\"\n",
              "                title=\"Suggest charts\"\n",
              "                style=\"display:none;\">\n",
              "\n",
              "<svg xmlns=\"http://www.w3.org/2000/svg\" height=\"24px\"viewBox=\"0 0 24 24\"\n",
              "     width=\"24px\">\n",
              "    <g>\n",
              "        <path d=\"M19 3H5c-1.1 0-2 .9-2 2v14c0 1.1.9 2 2 2h14c1.1 0 2-.9 2-2V5c0-1.1-.9-2-2-2zM9 17H7v-7h2v7zm4 0h-2V7h2v10zm4 0h-2v-4h2v4z\"/>\n",
              "    </g>\n",
              "</svg>\n",
              "      </button>\n",
              "\n",
              "<style>\n",
              "  .colab-df-quickchart {\n",
              "      --bg-color: #E8F0FE;\n",
              "      --fill-color: #1967D2;\n",
              "      --hover-bg-color: #E2EBFA;\n",
              "      --hover-fill-color: #174EA6;\n",
              "      --disabled-fill-color: #AAA;\n",
              "      --disabled-bg-color: #DDD;\n",
              "  }\n",
              "\n",
              "  [theme=dark] .colab-df-quickchart {\n",
              "      --bg-color: #3B4455;\n",
              "      --fill-color: #D2E3FC;\n",
              "      --hover-bg-color: #434B5C;\n",
              "      --hover-fill-color: #FFFFFF;\n",
              "      --disabled-bg-color: #3B4455;\n",
              "      --disabled-fill-color: #666;\n",
              "  }\n",
              "\n",
              "  .colab-df-quickchart {\n",
              "    background-color: var(--bg-color);\n",
              "    border: none;\n",
              "    border-radius: 50%;\n",
              "    cursor: pointer;\n",
              "    display: none;\n",
              "    fill: var(--fill-color);\n",
              "    height: 32px;\n",
              "    padding: 0;\n",
              "    width: 32px;\n",
              "  }\n",
              "\n",
              "  .colab-df-quickchart:hover {\n",
              "    background-color: var(--hover-bg-color);\n",
              "    box-shadow: 0 1px 2px rgba(60, 64, 67, 0.3), 0 1px 3px 1px rgba(60, 64, 67, 0.15);\n",
              "    fill: var(--button-hover-fill-color);\n",
              "  }\n",
              "\n",
              "  .colab-df-quickchart-complete:disabled,\n",
              "  .colab-df-quickchart-complete:disabled:hover {\n",
              "    background-color: var(--disabled-bg-color);\n",
              "    fill: var(--disabled-fill-color);\n",
              "    box-shadow: none;\n",
              "  }\n",
              "\n",
              "  .colab-df-spinner {\n",
              "    border: 2px solid var(--fill-color);\n",
              "    border-color: transparent;\n",
              "    border-bottom-color: var(--fill-color);\n",
              "    animation:\n",
              "      spin 1s steps(1) infinite;\n",
              "  }\n",
              "\n",
              "  @keyframes spin {\n",
              "    0% {\n",
              "      border-color: transparent;\n",
              "      border-bottom-color: var(--fill-color);\n",
              "      border-left-color: var(--fill-color);\n",
              "    }\n",
              "    20% {\n",
              "      border-color: transparent;\n",
              "      border-left-color: var(--fill-color);\n",
              "      border-top-color: var(--fill-color);\n",
              "    }\n",
              "    30% {\n",
              "      border-color: transparent;\n",
              "      border-left-color: var(--fill-color);\n",
              "      border-top-color: var(--fill-color);\n",
              "      border-right-color: var(--fill-color);\n",
              "    }\n",
              "    40% {\n",
              "      border-color: transparent;\n",
              "      border-right-color: var(--fill-color);\n",
              "      border-top-color: var(--fill-color);\n",
              "    }\n",
              "    60% {\n",
              "      border-color: transparent;\n",
              "      border-right-color: var(--fill-color);\n",
              "    }\n",
              "    80% {\n",
              "      border-color: transparent;\n",
              "      border-right-color: var(--fill-color);\n",
              "      border-bottom-color: var(--fill-color);\n",
              "    }\n",
              "    90% {\n",
              "      border-color: transparent;\n",
              "      border-bottom-color: var(--fill-color);\n",
              "    }\n",
              "  }\n",
              "</style>\n",
              "\n",
              "      <script>\n",
              "        async function quickchart(key) {\n",
              "          const quickchartButtonEl =\n",
              "            document.querySelector('#' + key + ' button');\n",
              "          quickchartButtonEl.disabled = true;  // To prevent multiple clicks.\n",
              "          quickchartButtonEl.classList.add('colab-df-spinner');\n",
              "          try {\n",
              "            const charts = await google.colab.kernel.invokeFunction(\n",
              "                'suggestCharts', [key], {});\n",
              "          } catch (error) {\n",
              "            console.error('Error during call to suggestCharts:', error);\n",
              "          }\n",
              "          quickchartButtonEl.classList.remove('colab-df-spinner');\n",
              "          quickchartButtonEl.classList.add('colab-df-quickchart-complete');\n",
              "        }\n",
              "        (() => {\n",
              "          let quickchartButtonEl =\n",
              "            document.querySelector('#df-43b904e6-35a3-4188-82fe-e1b800cb04bb button');\n",
              "          quickchartButtonEl.style.display =\n",
              "            google.colab.kernel.accessAllowed ? 'block' : 'none';\n",
              "        })();\n",
              "      </script>\n",
              "    </div>\n",
              "\n",
              "    </div>\n",
              "  </div>\n"
            ],
            "application/vnd.google.colaboratory.intrinsic+json": {
              "type": "dataframe",
              "variable_name": "df",
              "summary": "{\n  \"name\": \"df\",\n  \"rows\": 42675,\n  \"fields\": [\n    {\n      \"column\": \"title\",\n      \"properties\": {\n        \"dtype\": \"category\",\n        \"num_unique_values\": 8808,\n        \"samples\": [\n          \"Targus USB-C Dual HDMI 4K Docking Station with 100W PD Pass-Thru - Expand Your HDMI, USB, and Ethernet Connections On-The-Go (DOCK423TT)\",\n          \"WAVLINK USB C and USB 3.0 to Dual 4K DisplayPort/HDMI Adapter, Displaylink Monitor Splitter Extended Display for Dual Monitor 4K@60Hz, HDMI/DP Splitter Compatible with Mac M1-M4,Window Laptop-Silver\",\n          \"BATTRY ALKLN DURA AA CD8\"\n        ],\n        \"semantic_type\": \"\",\n        \"description\": \"\"\n      }\n    },\n    {\n      \"column\": \"rating\",\n      \"properties\": {\n        \"dtype\": \"number\",\n        \"std\": 0.3869974459271451,\n        \"min\": 1.0,\n        \"max\": 5.0,\n        \"num_unique_values\": 31,\n        \"samples\": [\n          2.7,\n          3.4,\n          1.0\n        ],\n        \"semantic_type\": \"\",\n        \"description\": \"\"\n      }\n    },\n    {\n      \"column\": \"number_of_reviews\",\n      \"properties\": {\n        \"dtype\": \"category\",\n        \"num_unique_values\": 4413,\n        \"samples\": [\n          \"223\",\n          \"14,506\",\n          \"2,049\"\n        ],\n        \"semantic_type\": \"\",\n        \"description\": \"\"\n      }\n    },\n    {\n      \"column\": \"bought_in_last_month\",\n      \"properties\": {\n        \"dtype\": \"number\",\n        \"std\": 6318.323573931562,\n        \"min\": 50.0,\n        \"max\": 100000.0,\n        \"num_unique_values\": 29,\n        \"samples\": [\n          600.0,\n          50.0,\n          60000.0\n        ],\n        \"semantic_type\": \"\",\n        \"description\": \"\"\n      }\n    },\n    {\n      \"column\": \"current/discounted_price\",\n      \"properties\": {\n        \"dtype\": \"number\",\n        \"std\": 345.2236083956413,\n        \"min\": 0.0,\n        \"max\": 4699.0,\n        \"num_unique_values\": 2577,\n        \"samples\": [\n          30.97,\n          297.25,\n          129.94\n        ],\n        \"semantic_type\": \"\",\n        \"description\": \"\"\n      }\n    },\n    {\n      \"column\": \"is_sponsored\",\n      \"properties\": {\n        \"dtype\": \"number\",\n        \"std\": 0,\n        \"min\": 0,\n        \"max\": 1,\n        \"num_unique_values\": 2,\n        \"samples\": [\n          0,\n          1\n        ],\n        \"semantic_type\": \"\",\n        \"description\": \"\"\n      }\n    },\n    {\n      \"column\": \"add_to_cart_available\",\n      \"properties\": {\n        \"dtype\": \"number\",\n        \"std\": 0,\n        \"min\": 0,\n        \"max\": 1,\n        \"num_unique_values\": 2,\n        \"samples\": [\n          0,\n          1\n        ],\n        \"semantic_type\": \"\",\n        \"description\": \"\"\n      }\n    },\n    {\n      \"column\": \"collected_at\",\n      \"properties\": {\n        \"dtype\": \"int32\",\n        \"num_unique_values\": 1,\n        \"samples\": [\n          8\n        ],\n        \"semantic_type\": \"\",\n        \"description\": \"\"\n      }\n    },\n    {\n      \"column\": \"listed_price_value\",\n      \"properties\": {\n        \"dtype\": \"number\",\n        \"std\": 98.57998796981323,\n        \"min\": 0.0,\n        \"max\": 999.99,\n        \"num_unique_values\": 865,\n        \"samples\": [\n          70.99\n        ],\n        \"semantic_type\": \"\",\n        \"description\": \"\"\n      }\n    },\n    {\n      \"column\": \"coupon_discount_percentage\",\n      \"properties\": {\n        \"dtype\": \"number\",\n        \"std\": 0.036755940374294374,\n        \"min\": 0.0,\n        \"max\": 0.5,\n        \"num_unique_values\": 12,\n        \"samples\": [\n          0.4\n        ],\n        \"semantic_type\": \"\",\n        \"description\": \"\"\n      }\n    },\n    {\n      \"column\": \"coupon_discount_value\",\n      \"properties\": {\n        \"dtype\": \"number\",\n        \"std\": 5.736607085593342,\n        \"min\": 0.0,\n        \"max\": 133.0,\n        \"num_unique_values\": 30,\n        \"samples\": [\n          90.0\n        ],\n        \"semantic_type\": \"\",\n        \"description\": \"\"\n      }\n    },\n    {\n      \"column\": \"energy_efficiency\",\n      \"properties\": {\n        \"dtype\": \"number\",\n        \"std\": 0,\n        \"min\": 0,\n        \"max\": 1,\n        \"num_unique_values\": 2,\n        \"samples\": [\n          1\n        ],\n        \"semantic_type\": \"\",\n        \"description\": \"\"\n      }\n    },\n    {\n      \"column\": \"work_with_alexa\",\n      \"properties\": {\n        \"dtype\": \"number\",\n        \"std\": 0,\n        \"min\": 0,\n        \"max\": 1,\n        \"num_unique_values\": 2,\n        \"samples\": [\n          1\n        ],\n        \"semantic_type\": \"\",\n        \"description\": \"\"\n      }\n    },\n    {\n      \"column\": \"small_business\",\n      \"properties\": {\n        \"dtype\": \"number\",\n        \"std\": 0,\n        \"min\": 0,\n        \"max\": 1,\n        \"num_unique_values\": 2,\n        \"samples\": [\n          1\n        ],\n        \"semantic_type\": \"\",\n        \"description\": \"\"\n      }\n    },\n    {\n      \"column\": \"carbon_impact\",\n      \"properties\": {\n        \"dtype\": \"number\",\n        \"std\": 0,\n        \"min\": 0,\n        \"max\": 1,\n        \"num_unique_values\": 2,\n        \"samples\": [\n          0\n        ],\n        \"semantic_type\": \"\",\n        \"description\": \"\"\n      }\n    },\n    {\n      \"column\": \"best_seller\",\n      \"properties\": {\n        \"dtype\": \"number\",\n        \"std\": 0,\n        \"min\": 0,\n        \"max\": 1,\n        \"num_unique_values\": 2,\n        \"samples\": [\n          1\n        ],\n        \"semantic_type\": \"\",\n        \"description\": \"\"\n      }\n    },\n    {\n      \"column\": \"amazon_choice\",\n      \"properties\": {\n        \"dtype\": \"number\",\n        \"std\": 0,\n        \"min\": 0,\n        \"max\": 1,\n        \"num_unique_values\": 2,\n        \"samples\": [\n          1\n        ],\n        \"semantic_type\": \"\",\n        \"description\": \"\"\n      }\n    },\n    {\n      \"column\": \"best_seller_discount\",\n      \"properties\": {\n        \"dtype\": \"number\",\n        \"std\": 0.019808633212072668,\n        \"min\": 0.0,\n        \"max\": 0.77,\n        \"num_unique_values\": 8,\n        \"samples\": [\n          0.3\n        ],\n        \"semantic_type\": \"\",\n        \"description\": \"\"\n      }\n    }\n  ]\n}"
            }
          },
          "metadata": {},
          "execution_count": 15
        }
      ]
    },
    {
      "cell_type": "code",
      "source": [
        "df[\"marca\"] = df[\"title\"].str.split().str[0]\n",
        "df[\"title\"] = df[\"title\"].str.split(n=1).str[1]"
      ],
      "metadata": {
        "id": "qnFUgIKOj6ok"
      },
      "execution_count": 16,
      "outputs": []
    },
    {
      "cell_type": "code",
      "source": [
        "marca_counts = df[\"marca\"].value_counts()\n",
        "\n",
        "c = 1\n",
        "for i in range(1,8):\n",
        "    c += 50\n",
        "    print(\"Quantidade de Vendas até \", c-1)\n",
        "    print(\"Total de marcas: \", (marca_counts < c).sum())\n",
        "    print(\".....................................\")"
      ],
      "metadata": {
        "id": "bfSTW9c4j7hw",
        "outputId": "85333920-a1e6-40e2-a796-8e5fa2156804",
        "colab": {
          "base_uri": "https://localhost:8080/"
        }
      },
      "execution_count": 17,
      "outputs": [
        {
          "output_type": "stream",
          "name": "stdout",
          "text": [
            "Quantidade de Vendas até  50\n",
            "Total de marcas:  577\n",
            ".....................................\n",
            "Quantidade de Vendas até  100\n",
            "Total de marcas:  622\n",
            ".....................................\n",
            "Quantidade de Vendas até  150\n",
            "Total de marcas:  654\n",
            ".....................................\n",
            "Quantidade de Vendas até  200\n",
            "Total de marcas:  679\n",
            ".....................................\n",
            "Quantidade de Vendas até  250\n",
            "Total de marcas:  694\n",
            ".....................................\n",
            "Quantidade de Vendas até  300\n",
            "Total de marcas:  705\n",
            ".....................................\n",
            "Quantidade de Vendas até  350\n",
            "Total de marcas:  714\n",
            ".....................................\n"
          ]
        }
      ]
    },
    {
      "cell_type": "code",
      "source": [
        "lista_marcas = df[\"marca\"].unique().tolist()\n",
        "print(\"A lista de marcas:\")\n",
        "print(lista_marcas)"
      ],
      "metadata": {
        "id": "u56GK2itj-jU",
        "outputId": "a2f7d1ff-d862-4d2f-9f57-66cc858fdf7e",
        "colab": {
          "base_uri": "https://localhost:8080/"
        }
      },
      "execution_count": 19,
      "outputs": [
        {
          "output_type": "stream",
          "name": "stdout",
          "text": [
            "A lista de marcas:\n",
            "['BOYA', 'LISEN', 'DJI', 'Apple', 'Texas', 'Complete', 'Amazon', 'Transformers', 'Seagate', 'Peak', 'Roku', 'Energizer', 'Duracell', 'Sony', 'HP', 'Razer', 'OWC', 'Mounting', 'Scotch', 'JBL', 'TP-Link', 'Samsung', 'Sharpie', 'SanDisk', 'Beats', 'AMD', 'KODAK', 'PHILIPS', 'Sanus', 'VIZIO', 'Aquaphor', 'Logitech', 'Meta', 'Original', 'Anker', 'Escort', 'Fitbit', 'RCA', 'Pyle', 'myQ', 'Sceptre', 'Canon', 'Epson', 'Fujifilm', 'Post-it', 'Avery', 'Soundcore', 'DEWALT', 'Monster', 'APC', 'Xbox', 'SAMSUNG', 'BIC', 'Fila', 'TRANSFORMERS', 'Philips', 'acer', 'Nintendo', 'EPSON', 'Brother', 'CyberPower', 'Powermax', 'Baseus', 'Dell', 'ASUS', 'DYMO', 'Acer', 'Bose', 'Lasko', 'Crucial', 'Garmin', 'Listerine', '3M', 'Skullcandy', 'CORSAIR', 'NETGEAR', 'Pendaflex', 'iOttie', 'Lexar', 'WD_BLACK', 'Kasa', 'Skylight', 'Hisense', 'Turtle', 'Belkin', 'Chuckit!', 'MSI', 'Kleenex', 'Ubiquiti', 'AT&T', 'Ring', 'Legrand', 'Power', 'WYZE', 'Mophie', 'UGREEN', 'Braun', 'Sonos', 'Tile', 'ARRIS', 'SHOKZ', 'Lenovo', 'VIVO', 'Satechi', 'Scott', 'All-new', 'Casio', 'ASURION', 'ARCTIC', 'Rayovac', 'Elgato', 'TCL', 'AINOPE', 'Ray-Ban', 'PNY', 'ACDelco', 'Roam', 'SteelSeries', 'Google', 'DualShock', 'Kodak', 'Panasonic', 'Kingston', 'E-Z', 'OtterBox', 'AOC', 'GoPro', 'NVIDIA', 'Vortex', 'Tripp', 'Carhartt', 'Retevis', 'Command', 'Spigen', 'Amazfit', 'Arlo', 'PowerA', 'Uniden', 'Godox', 'BLACK+DECKER', 'Ultimate', 'HyperX', 'BlueParrott', 'Tapo', 'Intel', 'Blink', 'LG', 'ViewSonic', 'JanSport', 'TRX', 'LaCie', 'Wyze', 'DURACELL', 'Cobra', 'Remington', 'Toshiba', 'Plantronics', 'Western', 'Edifier', 'Polaroid', 'Koss', 'Insta360', 'Buffalo', 'Intel®', 'Wacom', 'GORILLA', 'GIGABYTE', 'Pioneer', 'Swingline', 'CyberPowerPC', 'Poly', 'Audio-Technica', 'Zebra', 'ESR', 'weBoost', 'SABRENT', 'Shure', 'Technics', 'Creative', 'Garmin®', 'SANUS', 'NZXT', 'Microsoft', 'POLY', 'UNIDEN', 'Marshall', 'Schlage', 'PopSockets', 'TI-30XIIS', 'ZAGG', 'THE', 'SwissGear', 'Made', 'CHAMBERLAIN', 'Corsair', 'Microplane', 'adidas', 'Thermaltake', 'Intermatic', 'PlayStation', 'G.SKILL', 'SureFire', 'Fellowes', 'Jabra', 'Olympus', 'SimpliSafe', 'Eneloop', 'Verbatim', 'Fender', 'Targus', 'Cooler', 'Melissa', 'VELCRO', 'Maxell', 'Hasbro', 'WD', 'GE', 'Westinghouse', 'VTech', 'StarTech.com', 'Rode', 'PYLE-PRO', 'RODE', 'Denon', 'HORI', 'Midland', 'RØDE', 'Bushnell', 'Kensington', '8Bitdo', 'Outward', 'Streamlight', '67XL', 'be', 'Klein', 'Cardo', 'New', 'STANLEY', 'NEEWER', 'Quartet', 'Fujitsu', 'Sennheiser', 'Pokemon', '8BitDo', 'MOSISO', 'Lifetime', 'Eaton', 'Polk', 'Victrola', 'Klipsch', 'Kicker', '2-Pack', 'Astrobrights', 'EATON', 'Sandisk', 'Purell', 'Simple', 'Mighty', 'M-Audio', 'Kipling', 'BAGSMART', 'Ubeesize', 'BenQ', 'ION', 'ASRock', 'SAMSON', 'Scosche', 'The', 'Blackview', 'SONY', 'Wahl', 'UBeesize', 'Tamron', 'LOGITECH', 'FUJIFILM', 'Lian', 'PDP', 'Yealink', 'Yale', 'WeatherTech', 'soundcore', 'SABRE', 'Farberware', 'Crayola', 'Athlon', 'Beelink', 'Predator', 'Taramps', 'UBIQUITI', 'eufy', 'Synology', 'Ergotron', 'Asurion', 'Sharp', \"D'Addario\", 'Motorola', 'beyerdynamic', 'Singing', 'Arduino', 'WD_Black', 'FEELWORLD', 'TEXAS', 'FiiO', 'WAVLINK', 'Baofeng', 'Neewer', 'Rechargeable', 'Brady', 'Case', 'Onkyo', 'TI', 'SKLZ', 'Super', 'Canon®', 'Nitecore', 'Pelican', 'Case-Mate', 'Humminbird', 'AmScope', 'YAMAHA', 'Jansport', '2025', 'JLab', 'Minn', 'SCUF', 'VEVOR', '\\u200b\\u200b\\u200b\\u200bPopSockets', 'Antennas', 'Joy-Con', 'Hp', 'ZEISS', 'TASCAM', 'ORION', 'Urnex', 'TRENDnet', 'Alpine', 'Nikon', 'UPS', 'GODOX', 'Alienware', 'FUJITSU', 'Stealth', 'GOJO', 'Dove', 'Thermalright', 'STAEDTLER', 'AAA', 'Holy', 'Ubisoft', 'Southwire', 'Blackmagic', 'Sigma', 'JOYTUTUS', 'Lexmark', 'Thrustmaster', 'Scotts', 'Monoprice', '61XL', 'CanonCL-261', 'OGIO', 'Osprey', 'Transcend', 'NIkon', 'Racing', 'iFixit', 'Square', 'Fractal', 'Ooma', 'Peugeot', 'KICKER', 'Skytech', 'Metra', 'Feit', 'Playstation', '24-70mm', 'Celestron', 'BAGSMAT', 'FujiFilm', 'Under', 'Casely', 'Carson', 'JVC', 'Furman', 'Destinations', 'SENNHEISER', 'Gigabyte', 'BOG', 'Woods', 'Arrow', '[Older', 'ZEBRA', 'Rockford', 'BOSCH', 'Glorious', 'URBAN', 'ZOTAC', 'Silhouette', 'ASTRO', 'Nite', 'Simrad', 'Renata', 'Cummins', 'Ilford', 'REOLINK', 'Midland-', 'Master', 'Military', 'Proscan', 'Zebra®', \"Burt's\", 'KENWOOD', 'LIAN', 'Wrangler', 'GVM', 'OnStage', 'Comply', 'STAR', 'PYLE', 'Seasonic', '70-200mm', 'Xiaomi', 'Dymo', 'AVERY', 'Renogy', 'kate', 'OnePlus', 'CHERRY', 'BATTRY', 'Fintie', 'PULSE', 'Care', 'Game', '2891-20', '2', 'LENOVO', '100', 'DEERC', 'Kenwood', 'Makita', 'Genuine', 'Leviton', 'SCHLAGE', 'DELL', 'Asrock', 'Koncept', 'B450M-HDV', 'Linksys', 'Midland®', 'Quad', 'Xyron', 'BOYALINK', 'Cherry', 'MINISO', 'Lowrance', 'Cuisinart', 'LiveScope™', 'ecobee', 'PIONEER', 'Fusion', 'TORRAS', 'Infant', 'Sabrent', 'Office', 'VER96155', 'Endust', 'RICOH', 'Lutron', 'Stealthcam', '4PCS', 'ROG', 'EVGA', 'Keychron', 'BAOFENG', 'Siemens', 'Hyperkin', 'iHome', '3x', 'Antec', 'EVEREADY', 'Manfrotto', 'Cync', 'Dayton', 'Lisen', 'Bluetooth', 'Anne', 'Focal', 'Nike', 'ZHIYUN', 'Aputure', 'Orion', 'Performance', 'Highland', 'Harman', 'Lorex', 'Champion', 'Vic', 'TI-84', 'Innova', 'Neenah', 'IRIS', 'INTEL', 'KIWI', 'Ham', 'Legion', 'PGYTECH', 'Next', 'SurgeMaster', 'Pentel', 'Crosley', 'OEM', 'Ceaco', '5', 'TUF', 'KitchenAid', 'FIIO', 'Yamaha', 'ENERGIZER', '4Pc', 'LEGO', 'Oakley', 'PUMA', 'Altec', 'Incase', 'One', '2009-2014', 'Boogie', '12pk', 'Honeywell', 'Learning', '4pc', 'TACTACAM', 'Insta', 'Nylabone', 'K&M', 'STEALTH', 'Mercer', 'Pyramex', 'Muddy', 'La', 'Samson', 'AGM', 'Kryptonite', 'VILTROX', 'RAYOVAC', 'Nakamichi', 'Final', 'Ortofon', 'Kuhn', 'Sound', 'CHUWI', 'OM', 'Matte', 'XIAOMI', 'Netgear', 'Tonies', 'Compact', 'Lume', 'Kobo', 'Kate', 'Moultrie', 'Moukey', 'STINGER', 'Hape', 'YeaLink', 'SilverStone', 'CoolerMaster', 'NOCO', 'KUHN', 'Xerox', 'Mount-It!', 'Winegard', 'Brother(R)', 'Wireless', 'C2G', 'CISCO', '2018', 'SIG', 'Pantone', 'Wii', 'On-Stage', 'Nanit', 'TTartisan', 'ThinkPad', '4', 'Everlasting', 'ARKON', 'MikroTik', 'MEM', 'Cerama', 'ABB', 'Wiremold', 'Kishi', 'Tyler', 'Hitachi', 'Asus', '12-Pack', 'ML10-12', 'Lian-Li', 'EPOS', 'Flexzilla', 'JOBY', '65XL', 'Pentax', 'Blue', 'Milwaukee', 'Waterproof', 'RYDONAIR', 'Speck', 'Water', 'Beyerdynamic', 'Laptop', \"Meguiar's\", 'amiibo', 'NANUK', 'Adidas', 'MOTOROLA', 'Accutime', 'KYOCERA', 'Boxed', 'Focusrite', 'Dyson', 'SIRUI', 'USB', 'ELEGOO', 'FREECOM-X/Spirit', 'Presto', 'USB-C', '256GB', 'EPOMAKER', 'ADATA', 'Ricoh', '10', 'Audio', '64XL', 'JENSEN', 'Broan-NuTone', 'NUX', 'Coleman', 'SiriusXM', 'Mitchum', 'Rockville', 'iFi', 'Gardner', 'G-Shock', 'Kenneth', 'Oxford', 'Gator', 'Standard', '(2)', 'Hewlett-Packard', 'Sirui', 'Crunch', 'SIRIUS-XM', 'GHome', 'ORICO', '64GB', 'Line', 'Gaming', 'Icom', 'Quality', 'My', 'Mikrotik', '10-18mm', 'THOMESURGEP', 'Callaway', 'Coach', 'Nilight', 'Cisco', 'Stinger', \"Walker's\", 'Eton', 'Desktop', 'Astro', 'Lanzar', 'VTECH', 'Fjallraven', 'TC', 'Hoover', 'DS18', 'Samsonite', 'MINISFORUM', 'Atomos', 'NIKON', 'JansSport', 'Battery', 'Kanto', 'ELAC', 'Kyocera', 'Kuryakyn', 'Shakespeare', 'Tilta', 'Little', 'JABRA', 'CAT', 'Epson,', 'Behringer', 'Pacsafe', 'Leica', 'SoundPEATS', 'Nvidia', 'Oculus', 'Sapphire', 'Monolith', 'Dolphin', 'Rokinon', 'MUDDY', 'Sangean', 'Goodyear', 'Thule', 'Zoom', 'Replacement', 'Lithonia', 'TUMI', 'Viper', 'Easy-Going', '128GB', '6COU', 'C2G/Cables', 'Majoras', 'AKG', 'NITECORE', 'CR', 'Hello', 'BCW', 'Armor', 'A', 'klipsch', 'SIRIUSXM', 'Windex', 'Bundle', 'VMP', '2GB', 'Staples', 'U', 'ENCASED', '2019', 'STAPLES', 'XPG', 'Sprayground']\n"
          ]
        }
      ]
    },
    {
      "cell_type": "code",
      "source": [
        "brands_map = {\n",
        "    \"Apple\": \"Consumer Electronics & Technology\",\n",
        "    \"Samsung\": \"Consumer Electronics & Technology\",\n",
        "    \"LG\": \"Consumer Electronics & Technology\",\n",
        "    \"Sony\": \"Consumer Electronics & Technology\",\n",
        "    \"Panasonic\": \"Consumer Electronics & Technology\",\n",
        "    \"Philips\": \"Consumer Electronics & Technology\",\n",
        "    \"Sharp\": \"Consumer Electronics & Technology\",\n",
        "    \"Hisense\": \"Consumer Electronics & Technology\",\n",
        "    \"Vizio\": \"Consumer Electronics & Technology\",\n",
        "    \"TCL\": \"Consumer Electronics & Technology\",\n",
        "    \"Acer\": \"Consumer Electronics & Technology\",\n",
        "    \"ASUS\": \"Consumer Electronics & Technology\",\n",
        "    \"Dell\": \"Consumer Electronics & Technology\",\n",
        "    \"Lenovo\": \"Consumer Electronics & Technology\",\n",
        "    \"Microsoft\": \"Consumer Electronics & Technology\",\n",
        "    \"Google\": \"Consumer Electronics & Technology\",\n",
        "    \"Meta\": \"Consumer Electronics & Technology\",\n",
        "    \"Amazon\": \"Consumer Electronics & Technology\",\n",
        "    \"Nintendo\": \"Consumer Electronics & Technology\",\n",
        "    \"Xbox\": \"Consumer Electronics & Technology\",\n",
        "    \"PlayStation\": \"Consumer Electronics & Technology\",\n",
        "    \"Roku\": \"Consumer Electronics & Technology\",\n",
        "    \"Canon\": \"Consumer Electronics & Technology\",\n",
        "    \"Epson\": \"Consumer Electronics & Technology\",\n",
        "    \"Fujifilm\": \"Consumer Electronics & Technology\",\n",
        "    \"Nikon\": \"Consumer Electronics & Technology\",\n",
        "    \"GoPro\": \"Consumer Electronics & Technology\",\n",
        "    \"Insta360\": \"Consumer Electronics & Technology\",\n",
        "    \"DJI\": \"Consumer Electronics & Technology\",\n",
        "\n",
        "    \"JBL\": \"Audio, Music & Headphones\",\n",
        "    \"Beats\": \"Audio, Music & Headphones\",\n",
        "    \"Bose\": \"Audio, Music & Headphones\",\n",
        "    \"Razer\": \"Audio, Music & Headphones\",\n",
        "    \"Corsair\": \"Audio, Music & Headphones\",\n",
        "    \"SteelSeries\": \"Audio, Music & Headphones\",\n",
        "    \"HyperX\": \"Audio, Music & Headphones\",\n",
        "    \"Audio-Technica\": \"Audio, Music & Headphones\",\n",
        "    \"Shure\": \"Audio, Music & Headphones\",\n",
        "    \"Sennheiser\": \"Audio, Music & Headphones\",\n",
        "    \"AKG\": \"Audio, Music & Headphones\",\n",
        "    \"Skullcandy\": \"Audio, Music & Headphones\",\n",
        "    \"Sonos\": \"Audio, Music & Headphones\",\n",
        "    \"Soundcore\": \"Audio, Music & Headphones\",\n",
        "    \"Marshall\": \"Audio, Music & Headphones\",\n",
        "    \"Rode\": \"Audio, Music & Headphones\",\n",
        "    \"Jabra\": \"Audio, Music & Headphones\",\n",
        "    \"Logitech (G and audio)\": \"Audio, Music & Headphones\",\n",
        "    \"Plantronics\": \"Audio, Music & Headphones\",\n",
        "    \"beyerdynamic\": \"Audio, Music & Headphones\",\n",
        "\n",
        "    \"Seagate\": \"Storage & Components\",\n",
        "    \"Western\": \"Storage & Components\",\n",
        "    \"WD\": \"Storage & Components\",\n",
        "    \"WD_BLACK\": \"Storage & Components\",\n",
        "    \"Crucial\": \"Storage & Components\",\n",
        "    \"Kingston\": \"Storage & Components\",\n",
        "    \"SanDisk\": \"Storage & Components\",\n",
        "    \"Lexar\": \"Storage & Components\",\n",
        "    \"PNY\": \"Storage & Components\",\n",
        "    \"Intel\": \"Storage & Components\",\n",
        "    \"AMD\": \"Storage & Components\",\n",
        "    \"NVIDIA\": \"Storage & Components\",\n",
        "    \"GIGABYTE\": \"Storage & Components\",\n",
        "    \"ASRock\": \"Storage & Components\",\n",
        "    \"MSI\": \"Storage & Components\",\n",
        "    \"EVGA\": \"Storage & Components\",\n",
        "    \"ZOTAC\": \"Storage & Components\",\n",
        "    \"XPG\": \"Storage & Components\",\n",
        "    \"Sabrent\": \"Storage & Components\",\n",
        "\n",
        "    \"Duracell\": \"Energy & Batteries\",\n",
        "    \"Energizer\": \"Energy & Batteries\",\n",
        "    \"Rayovac\": \"Energy & Batteries\",\n",
        "    \"Anker\": \"Energy & Batteries\",\n",
        "    \"Mophie\": \"Energy & Batteries\",\n",
        "    \"CyberPower\": \"Energy & Batteries\",\n",
        "    \"APC\": \"Energy & Batteries\",\n",
        "    \"Eaton\": \"Energy & Batteries\",\n",
        "    \"Tripp\": \"Energy & Batteries\",\n",
        "    \"Powermax\": \"Energy & Batteries\",\n",
        "    \"Renogy\": \"Energy & Batteries\",\n",
        "    \"NOCO\": \"Energy & Batteries\",\n",
        "    \"Seasonic\": \"Energy & Batteries\",\n",
        "\n",
        "    \"TP-Link\": \"Peripherals & Accessories\",\n",
        "    \"NETGEAR\": \"Peripherals & Accessories\",\n",
        "    \"Linksys\": \"Peripherals & Accessories\",\n",
        "    \"Ubiquiti\": \"Peripherals & Accessories\",\n",
        "    \"ARRIS\": \"Peripherals & Accessories\",\n",
        "    \"Ring\": \"Peripherals & Accessories\",\n",
        "    \"Wyze\": \"Peripherals & Accessories\",\n",
        "    \"Arlo\": \"Peripherals & Accessories\",\n",
        "    \"Kasa\": \"Peripherals & Accessories\",\n",
        "    \"Tapo\": \"Peripherals & Accessories\",\n",
        "    \"iOttie\": \"Peripherals & Accessories\",\n",
        "    \"OtterBox\": \"Peripherals & Accessories\",\n",
        "    \"Spigen\": \"Peripherals & Accessories\",\n",
        "    \"Belkin\": \"Peripherals & Accessories\",\n",
        "    \"Baseus\": \"Peripherals & Accessories\",\n",
        "    \"UGREEN\": \"Peripherals & Accessories\",\n",
        "    \"Satechi\": \"Peripherals & Accessories\",\n",
        "    \"Elgato\": \"Peripherals & Accessories\",\n",
        "    \"PopSockets\": \"Peripherals & Accessories\",\n",
        "\n",
        "    \"3M\": \"Home & Office\",\n",
        "    \"Scotch\": \"Home & Office\",\n",
        "    \"Post-it\": \"Home & Office\",\n",
        "    \"Avery\": \"Home & Office\",\n",
        "    \"Pendaflex\": \"Home & Office\",\n",
        "    \"Fellowes\": \"Home & Office\",\n",
        "    \"Swingline\": \"Home & Office\",\n",
        "    \"Staples\": \"Home & Office\",\n",
        "    \"Brother\": \"Home & Office\",\n",
        "    \"DYMO\": \"Home & Office\",\n",
        "    \"Sharpie\": \"Home & Office\",\n",
        "    \"Crayola\": \"Home & Office\",\n",
        "    \"Staedtler\": \"Home & Office\",\n",
        "    \"Pentel\": \"Home & Office\",\n",
        "\n",
        "    \"DEWALT\": \"Tools & Construction\",\n",
        "    \"Black+Decker\": \"Tools & Construction\",\n",
        "    \"Bosch\": \"Tools & Construction\",\n",
        "    \"Stanley\": \"Tools & Construction\",\n",
        "    \"Makita\": \"Tools & Construction\",\n",
        "    \"Milwaukee\": \"Tools & Construction\",\n",
        "    \"Dremel\": \"Tools & Construction\",\n",
        "    \"Klein\": \"Tools & Construction\",\n",
        "    \"Legrand\": \"Tools & Construction\",\n",
        "    \"Schlage\": \"Tools & Construction\",\n",
        "    \"Honeywell\": \"Tools & Construction\",\n",
        "\n",
        "    \"Fila\": \"Fashion & Lifestyle\",\n",
        "    \"adidas\": \"Fashion & Lifestyle\",\n",
        "    \"Nike\": \"Fashion & Lifestyle\",\n",
        "    \"Puma\": \"Fashion & Lifestyle\",\n",
        "    \"Ray-Ban\": \"Fashion & Lifestyle\",\n",
        "    \"Oakley\": \"Fashion & Lifestyle\",\n",
        "    \"SwissGear\": \"Fashion & Lifestyle\",\n",
        "    \"JanSport\": \"Fashion & Lifestyle\",\n",
        "    \"Carhartt\": \"Fashion & Lifestyle\",\n",
        "    \"Wrangler\": \"Fashion & Lifestyle\",\n",
        "\n",
        "    \"Listerine\": \"Health, Hygiene & Personal Care\",\n",
        "    \"Aquaphor\": \"Health, Hygiene & Personal Care\",\n",
        "    \"Kleenex\": \"Health, Hygiene & Personal Care\",\n",
        "    \"Purell\": \"Health, Hygiene & Personal Care\",\n",
        "    \"Braun\": \"Health, Hygiene & Personal Care\",\n",
        "    \"Oral-B\": \"Health, Hygiene & Personal Care\",\n",
        "    \"Dove\": \"Health, Hygiene & Personal Care\",\n",
        "    \"Gojo\": \"Health, Hygiene & Personal Care\",\n",
        "    \"Philips (personal care)\": \"Health, Hygiene & Personal Care\",\n",
        "    \"Remington\": \"Health, Hygiene & Personal Care\",\n",
        "\n",
        "    \"Hasbro\": \"Other / Entertainment & Toys\",\n",
        "    \"Transformers\": \"Other / Entertainment & Toys\",\n",
        "    \"Pokemon\": \"Other / Entertainment & Toys\",\n",
        "    \"Lego\": \"Other / Entertainment & Toys\",\n",
        "    \"Ubisoft\": \"Other / Entertainment & Toys\",\n",
        "    \"Victrola\": \"Other / Entertainment & Toys\",\n",
        "    \"Fender\": \"Other / Entertainment & Toys\",\n",
        "    \"Casio\": \"Other / Entertainment & Toys\",\n",
        "    \"Yamaha\": \"Other / Entertainment & Toys\",\n",
        "    \"Roland\": \"Other / Entertainment & Toys\"\n",
        "}\n",
        "\n",
        "df[\"brand_group\"] = df[\"marca\"].map(brands_map).fillna(\"Other\")"
      ],
      "metadata": {
        "id": "gb4ZBgWLj_zo"
      },
      "execution_count": 21,
      "outputs": []
    },
    {
      "cell_type": "code",
      "source": [
        "cols = [\"marca\", \"brand_group\", \"title\"] + [col for col in df.columns if col not in [\"marca\", \"brand_group\", \"title\"]]\n",
        "df = df[cols]\n",
        "print(\"Reorganizar Colunas\")\n",
        "\n",
        "df[[\"title\", \"title_complement\"]] = df[\"title\"].str.split(\",\", n=1, expand=True)\n",
        "df[\"title\"] = df[\"title\"].str.strip()\n",
        "df[\"title_complement\"] = df[\"title_complement\"].str.strip()\n",
        "print(\"Title dividida em title e title_complement\")\n"
      ],
      "metadata": {
        "id": "iwSb0ZjikA8A",
        "outputId": "16bc9be3-8e2c-469a-f571-b77751c2468c",
        "colab": {
          "base_uri": "https://localhost:8080/"
        }
      },
      "execution_count": 22,
      "outputs": [
        {
          "output_type": "stream",
          "name": "stdout",
          "text": [
            "Reorganizar Colunas\n",
            "Title dividida em title e title_complement\n"
          ]
        }
      ]
    },
    {
      "cell_type": "code",
      "source": [
        "df_consumer_electronics = df[df[\"brand_group\"] == \"Consumer Electronics & Technology\"]\n",
        "df_audio_music          = df[df[\"brand_group\"] == \"Audio, Music & Headphones\"]\n",
        "df_storage              = df[df[\"brand_group\"] == \"Storage & Components\"]\n",
        "df_energy               = df[df[\"brand_group\"] == \"Energy & Batteries\"]\n",
        "df_peripherals          = df[df[\"brand_group\"] == \"Peripherals & Accessories\"]\n",
        "df_home_office          = df[df[\"brand_group\"] == \"Home & Office\"]\n",
        "df_tools                = df[df[\"brand_group\"] == \"Tools & Construction\"]\n",
        "df_fashion              = df[df[\"brand_group\"] == \"Fashion & Lifestyle\"]\n",
        "df_health               = df[df[\"brand_group\"] == \"Health, Hygiene & Personal Care\"]\n",
        "df_entertainment        = df[df[\"brand_group\"] == \"Other / Entertainment & Toys\"]\n",
        "df_other                = df[df[\"brand_group\"] == \"Other\"]"
      ],
      "metadata": {
        "id": "xl4EQE1rkCRM"
      },
      "execution_count": 23,
      "outputs": []
    },
    {
      "cell_type": "code",
      "source": [
        "import unicodedata, re, textwrap\n",
        "import matplotlib.pyplot as plt\n",
        "\n",
        "# ---------- normalizadores ----------\n",
        "def strip_accents_lower(s: str) -> str:\n",
        "    s = unicodedata.normalize('NFKD', s)\n",
        "    s = ''.join(ch for ch in s if not unicodedata.combining(ch))\n",
        "    return s.casefold()\n",
        "\n",
        "def norm_key(s: str) -> str:\n",
        "    s = strip_accents_lower(s)\n",
        "    s = re.sub(r'[\\s-]+', '', s)\n",
        "    return s\n",
        "\n",
        "# ---------- mapeamento de opções -> DataFrames ----------\n",
        "options_map = {\n",
        "    norm_key(\"Eletrônicos\"): df_consumer_electronics,\n",
        "    norm_key(\"Audio\"): df_audio_music,\n",
        "    norm_key(\"Armazenamento\"): df_storage,\n",
        "    norm_key(\"Energia\"): df_energy,\n",
        "    norm_key(\"Periférico\"): df_peripherals,\n",
        "    norm_key(\"Home Office\"): df_home_office,\n",
        "    norm_key(\"Ferramentas\"): df_tools,\n",
        "    norm_key(\"Moda\"): df_fashion,\n",
        "    norm_key(\"Saúde\"): df_health,\n",
        "    norm_key(\"Entretenimento\"): df_entertainment,\n",
        "    norm_key(\"Outros\"): df_other,\n",
        "}\n",
        "\n",
        "# ---------- entrada do usuário ----------\n",
        "dfs_choose = input(\"Eletronicos, Audio, Armazenamento, Energia, Periférico, Home Office, Ferramentas, Moda, Saúde, Entretenimento ou Outros? \")\n",
        "DF = options_map.get(norm_key(dfs_choose))\n",
        "if DF is None:\n",
        "    print(\"Opção inválida.\")\n",
        "else:\n",
        "    marca = input(\"Qual a marca? \").strip()\n",
        "    marca_norm = strip_accents_lower(marca)\n",
        "\n",
        "    df_analytics = DF[DF[\"marca\"].astype(str).apply(strip_accents_lower) == marca_norm]\n",
        "    if df_analytics.empty:\n",
        "        print(\"Nenhum registro para essa marca nessa categoria.\")\n",
        "    else:\n",
        "        # ---------- contagem de títulos ----------\n",
        "        counts = df_analytics[\"title\"].value_counts()\n",
        "\n",
        "        # Top 10 + Others\n",
        "        TOP_N = 10\n",
        "        n = min(TOP_N, len(counts))\n",
        "        top = counts.head(n)\n",
        "        others_sum = counts.iloc[n:].sum() if len(counts) > n else 0\n",
        "\n",
        "        plot_labels = top.index.tolist()\n",
        "        plot_values = top.values.tolist()\n",
        "        if others_sum > 0:\n",
        "            plot_labels.append(\"Others\")\n",
        "            plot_values.append(others_sum)\n",
        "\n",
        "        # ---------- impressão da tabela ----------\n",
        "        print(\"\\nMais vendidos da marca:\", marca)\n",
        "        print(\"...........................................\")\n",
        "        tabela = top.rename_axis(\"title\").reset_index(name=\"count\")\n",
        "        if others_sum > 0:\n",
        "            tabela = tabela._append({\"title\": \"Others\", \"count\": others_sum}, ignore_index=True)\n",
        "\n",
        "        # ---------- gráfico (matplotlib) ----------\n",
        "        # (sem definir cores/estilos; barras horizontais para caber títulos longos)\n",
        "        # wrap dos títulos para não estourar a largura\n",
        "        wrapped_labels = [textwrap.fill(str(t), width=40) for t in plot_labels]\n",
        "\n",
        "        plt.figure(figsize=(10, 6))\n",
        "        plt.barh(wrapped_labels, plot_values)\n",
        "        plt.xlabel(\"Quantidade\")\n",
        "        plt.title(f\"Top {n} mais vendidos de {marca}\")\n",
        "        plt.gca().invert_yaxis()  # top primeiro\n",
        "        plt.tight_layout()\n",
        "        plt.show()\n"
      ],
      "metadata": {
        "id": "MaMp_w6_kDQR",
        "outputId": "1d82d4db-67c4-439a-8074-1b3353b000a2",
        "colab": {
          "base_uri": "https://localhost:8080/",
          "height": 694
        }
      },
      "execution_count": 24,
      "outputs": [
        {
          "output_type": "stream",
          "name": "stdout",
          "text": [
            "Eletronicos, Audio, Armazenamento, Energia, Periférico, Home Office, Ferramentas, Moda, Saúde, Entretenimento ou Outros? eletronicos\n",
            "Qual a marca? apple\n",
            "\n",
            "Mais vendidos da marca: apple\n",
            "...........................................\n"
          ]
        },
        {
          "output_type": "display_data",
          "data": {
            "text/plain": [
              "<Figure size 1000x600 with 1 Axes>"
            ],
            "image/png": "[encoded data removed]"
          },
          "metadata": {}
        }
      ]
    }
  ]
}