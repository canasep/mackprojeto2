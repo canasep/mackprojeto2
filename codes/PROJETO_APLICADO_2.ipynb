{
  "nbformat": 4,
  "nbformat_minor": 0,
  "metadata": {
    "colab": {
      "provenance": [],
      "include_colab_link": true
    },
    "kernelspec": {
      "name": "python3",
      "display_name": "Python 3"
    },
    "language_info": {
      "name": "python"
    }
  },
  "cells": [
    {
      "cell_type": "markdown",
      "metadata": {
        "id": "view-in-github",
        "colab_type": "text"
      },
      "source": [
        "<a href=\"https://colab.research.google.com/github/canasep/mackprojeto2/blob/main/codes/PROJETO_APLICADO_2.ipynb\" target=\"_parent\"><img src=\"https://colab.research.google.com/assets/colab-badge.svg\" alt=\"Open In Colab\"/></a>"
      ]
    },
    {
      "cell_type": "markdown",
      "source": [
        "*NESTA ETAPA IREMOS CLONAR O GITHUB NO COLLAB*"
      ],
      "metadata": {
        "id": "rVtEn2Bb87RA"
      }
    },
    {
      "cell_type": "code",
      "execution_count": 39,
      "metadata": {
        "id": "iG62Ffdi8W6N",
        "colab": {
          "base_uri": "https://localhost:8080/"
        },
        "outputId": "c19602d6-df80-4126-c968-379728131d74"
      },
      "outputs": [
        {
          "output_type": "stream",
          "name": "stdout",
          "text": [
            "fatal: destination path 'mackprojeto2' already exists and is not an empty directory.\n"
          ]
        }
      ],
      "source": [
        "!git clone https://github.com/canasep/mackprojeto2.git"
      ]
    },
    {
      "cell_type": "markdown",
      "source": [
        "**IMPORTAÇÃO DA DATABASE DO KAGGLE**"
      ],
      "metadata": {
        "id": "9U8j1ebyA3lE"
      }
    },
    {
      "cell_type": "code",
      "source": [
        "import kagglehub\n",
        "import os\n",
        "\n",
        "# Download latest version\n",
        "path = kagglehub.dataset_download(\"ikramshah512/amazon-products-sales-dataset-42k-items-2025\")\n",
        "\n",
        "print(\"Caminho para os arquivos importados:\", path)\n",
        "print(os.listdir(path))"
      ],
      "metadata": {
        "colab": {
          "base_uri": "https://localhost:8080/"
        },
        "id": "QsN9J3cNAysm",
        "outputId": "a624cc53-5171-413c-cd53-2b066ef4a7c6"
      },
      "execution_count": 40,
      "outputs": [
        {
          "output_type": "stream",
          "name": "stdout",
          "text": [
            "Using Colab cache for faster access to the 'amazon-products-sales-dataset-42k-items-2025' dataset.\n",
            "Caminho para os arquivos importados: /kaggle/input/amazon-products-sales-dataset-42k-items-2025\n",
            "['amazon_products_sales_data_cleaned.csv', 'amazon_products_sales_data_uncleaned.csv']\n"
          ]
        }
      ]
    },
    {
      "cell_type": "markdown",
      "source": [
        "**CRIAÇÃO DO DATASET A PARTIR DO CSV CRÚ**"
      ],
      "metadata": {
        "id": "voi1jbAF9yxm"
      }
    },
    {
      "cell_type": "code",
      "source": [
        "# IMPORTAÇÃO DO CSV E CRIAÇÃO DO DATASET\n",
        "\n",
        "## IMPORTANDO PACOTE PANDAS\n",
        "import pandas as pd\n",
        "\n",
        "### CAMINHO PARA O ARQUIVO CRÚ\n",
        "file_path = '/kaggle/input/amazon-products-sales-dataset-42k-items-2025/amazon_products_sales_data_uncleaned.csv'\n",
        "\n",
        "### CRIAÇÃO DO DATAFRAME\n",
        "try:\n",
        "    df = pd.read_csv(file_path)\n",
        "    print(\"Dataset criado com sucesso a partir do arquivo selecionado!\")\n",
        "except Exception as e:\n",
        "    print(f\"Erro ao criar o dataset: {e}\")"
      ],
      "metadata": {
        "colab": {
          "base_uri": "https://localhost:8080/"
        },
        "id": "rA4yH3lsBHyW",
        "outputId": "b3dd7235-b9e9-4baa-d031-139eb6148079"
      },
      "execution_count": 41,
      "outputs": [
        {
          "output_type": "stream",
          "name": "stdout",
          "text": [
            "Dataset criado com sucesso a partir do arquivo selecionado!\n"
          ]
        }
      ]
    },
    {
      "cell_type": "markdown",
      "source": [
        "**IMPRESSÃO DO HEAD DO DATASET DF**"
      ],
      "metadata": {
        "id": "eSMvkZK3-Wcf"
      }
    },
    {
      "cell_type": "code",
      "source": [
        "# IMPRESSÃO DO HEAD DO DATASET DF\n",
        "\n",
        "df.head()\n"
      ],
      "metadata": {
        "colab": {
          "base_uri": "https://localhost:8080/",
          "height": 660
        },
        "id": "SWVNUsHa-hZE",
        "outputId": "2fe799a8-3aa6-491f-92c6-dbe38292ab02"
      },
      "execution_count": 42,
      "outputs": [
        {
          "output_type": "execute_result",
          "data": {
            "text/plain": [
              "                                               title              rating  \\\n",
              "0  BOYA BOYALINK 2 Wireless Lavalier Microphone f...  4.6 out of 5 stars   \n",
              "1  LISEN USB C to Lightning Cable, 240W 4 in 1 Ch...  4.3 out of 5 stars   \n",
              "2  DJI Mic 2 (2 TX + 1 RX + Charging Case), Wirel...  4.6 out of 5 stars   \n",
              "3  Apple AirPods Pro 2 Wireless Earbuds, Active N...  4.6 out of 5 stars   \n",
              "4  Apple AirTag 4 Pack. Keep Track of and find Yo...  4.8 out of 5 stars   \n",
              "\n",
              "  number_of_reviews       bought_in_last_month current/discounted_price  \\\n",
              "0               375  300+ bought in past month                    89.68   \n",
              "1             2,457   6K+ bought in past month                     9.99   \n",
              "2             3,044   2K+ bought in past month                   314.00   \n",
              "3            35,882  10K+ bought in past month                      NaN   \n",
              "4            28,988  10K+ bought in past month                      NaN   \n",
              "\n",
              "               price_on_variant listed_price is_best_seller is_sponsored  \\\n",
              "0   basic variant price: 2.4GHz      $159.00       No Badge    Sponsored   \n",
              "1      basic variant price: nan       $15.99       No Badge    Sponsored   \n",
              "2      basic variant price: nan      $349.00       No Badge    Sponsored   \n",
              "3  basic variant price: $162.24  No Discount    Best Seller      Organic   \n",
              "4   basic variant price: $72.74  No Discount       No Badge      Organic   \n",
              "\n",
              "             is_couponed buy_box_availability      delivery_details  \\\n",
              "0  Save 15%  with coupon          Add to cart   Delivery Mon, Sep 1   \n",
              "1              No Coupon          Add to cart  Delivery Fri, Aug 29   \n",
              "2              No Coupon          Add to cart   Delivery Mon, Sep 1   \n",
              "3              No Coupon                  NaN                   NaN   \n",
              "4              No Coupon                  NaN                   NaN   \n",
              "\n",
              "  sustainability_badges                                          image_url  \\\n",
              "0         Carbon impact  https://m.media-amazon.com/images/I/71pAqiVEs3...   \n",
              "1                   NaN  https://m.media-amazon.com/images/I/61nbF6aVIP...   \n",
              "2                   NaN  https://m.media-amazon.com/images/I/61h78MEXoj...   \n",
              "3                   NaN  https://m.media-amazon.com/images/I/61SUj2aKoE...   \n",
              "4                   NaN  https://m.media-amazon.com/images/I/61bMNCeAUA...   \n",
              "\n",
              "                                         product_url         collected_at  \n",
              "0  /sspa/click?ie=UTF8&spc=MTo4NzEzNDY2NTQ5NDYxND...  2025-08-21 11:14:29  \n",
              "1  /sspa/click?ie=UTF8&spc=MTo4NzEzNDY2NTQ5NDYxND...  2025-08-21 11:14:29  \n",
              "2  /sspa/click?ie=UTF8&spc=MTo4NzEzNDY2NTQ5NDYxND...  2025-08-21 11:14:29  \n",
              "3  /Apple-Cancellation-Transparency-Personalized-...  2025-08-21 11:14:29  \n",
              "4  /Apple-MX542LL-A-AirTag-Pack/dp/B0D54JZTHY/ref...  2025-08-21 11:14:29  "
            ],
            "text/html": [
              "\n",
              "  <div id=\"df-61da9b3d-694b-444e-89d4-0bae09fb8b7d\" class=\"colab-df-container\">\n",
              "    <div>\n",
              "<style scoped>\n",
              "    .dataframe tbody tr th:only-of-type {\n",
              "        vertical-align: middle;\n",
              "    }\n",
              "\n",
              "    .dataframe tbody tr th {\n",
              "        vertical-align: top;\n",
              "    }\n",
              "\n",
              "    .dataframe thead th {\n",
              "        text-align: right;\n",
              "    }\n",
              "</style>\n",
              "<table border=\"1\" class=\"dataframe\">\n",
              "  <thead>\n",
              "    <tr style=\"text-align: right;\">\n",
              "      <th></th>\n",
              "      <th>title</th>\n",
              "      <th>rating</th>\n",
              "      <th>number_of_reviews</th>\n",
              "      <th>bought_in_last_month</th>\n",
              "      <th>current/discounted_price</th>\n",
              "      <th>price_on_variant</th>\n",
              "      <th>listed_price</th>\n",
              "      <th>is_best_seller</th>\n",
              "      <th>is_sponsored</th>\n",
              "      <th>is_couponed</th>\n",
              "      <th>buy_box_availability</th>\n",
              "      <th>delivery_details</th>\n",
              "      <th>sustainability_badges</th>\n",
              "      <th>image_url</th>\n",
              "      <th>product_url</th>\n",
              "      <th>collected_at</th>\n",
              "    </tr>\n",
              "  </thead>\n",
              "  <tbody>\n",
              "    <tr>\n",
              "      <th>0</th>\n",
              "      <td>BOYA BOYALINK 2 Wireless Lavalier Microphone f...</td>\n",
              "      <td>4.6 out of 5 stars</td>\n",
              "      <td>375</td>\n",
              "      <td>300+ bought in past month</td>\n",
              "      <td>89.68</td>\n",
              "      <td>basic variant price: 2.4GHz</td>\n",
              "      <td>$159.00</td>\n",
              "      <td>No Badge</td>\n",
              "      <td>Sponsored</td>\n",
              "      <td>Save 15%  with coupon</td>\n",
              "      <td>Add to cart</td>\n",
              "      <td>Delivery Mon, Sep 1</td>\n",
              "      <td>Carbon impact</td>\n",
              "      <td>https://m.media-amazon.com/images/I/71pAqiVEs3...</td>\n",
              "      <td>/sspa/click?ie=UTF8&amp;spc=MTo4NzEzNDY2NTQ5NDYxND...</td>\n",
              "      <td>2025-08-21 11:14:29</td>\n",
              "    </tr>\n",
              "    <tr>\n",
              "      <th>1</th>\n",
              "      <td>LISEN USB C to Lightning Cable, 240W 4 in 1 Ch...</td>\n",
              "      <td>4.3 out of 5 stars</td>\n",
              "      <td>2,457</td>\n",
              "      <td>6K+ bought in past month</td>\n",
              "      <td>9.99</td>\n",
              "      <td>basic variant price: nan</td>\n",
              "      <td>$15.99</td>\n",
              "      <td>No Badge</td>\n",
              "      <td>Sponsored</td>\n",
              "      <td>No Coupon</td>\n",
              "      <td>Add to cart</td>\n",
              "      <td>Delivery Fri, Aug 29</td>\n",
              "      <td>NaN</td>\n",
              "      <td>https://m.media-amazon.com/images/I/61nbF6aVIP...</td>\n",
              "      <td>/sspa/click?ie=UTF8&amp;spc=MTo4NzEzNDY2NTQ5NDYxND...</td>\n",
              "      <td>2025-08-21 11:14:29</td>\n",
              "    </tr>\n",
              "    <tr>\n",
              "      <th>2</th>\n",
              "      <td>DJI Mic 2 (2 TX + 1 RX + Charging Case), Wirel...</td>\n",
              "      <td>4.6 out of 5 stars</td>\n",
              "      <td>3,044</td>\n",
              "      <td>2K+ bought in past month</td>\n",
              "      <td>314.00</td>\n",
              "      <td>basic variant price: nan</td>\n",
              "      <td>$349.00</td>\n",
              "      <td>No Badge</td>\n",
              "      <td>Sponsored</td>\n",
              "      <td>No Coupon</td>\n",
              "      <td>Add to cart</td>\n",
              "      <td>Delivery Mon, Sep 1</td>\n",
              "      <td>NaN</td>\n",
              "      <td>https://m.media-amazon.com/images/I/61h78MEXoj...</td>\n",
              "      <td>/sspa/click?ie=UTF8&amp;spc=MTo4NzEzNDY2NTQ5NDYxND...</td>\n",
              "      <td>2025-08-21 11:14:29</td>\n",
              "    </tr>\n",
              "    <tr>\n",
              "      <th>3</th>\n",
              "      <td>Apple AirPods Pro 2 Wireless Earbuds, Active N...</td>\n",
              "      <td>4.6 out of 5 stars</td>\n",
              "      <td>35,882</td>\n",
              "      <td>10K+ bought in past month</td>\n",
              "      <td>NaN</td>\n",
              "      <td>basic variant price: $162.24</td>\n",
              "      <td>No Discount</td>\n",
              "      <td>Best Seller</td>\n",
              "      <td>Organic</td>\n",
              "      <td>No Coupon</td>\n",
              "      <td>NaN</td>\n",
              "      <td>NaN</td>\n",
              "      <td>NaN</td>\n",
              "      <td>https://m.media-amazon.com/images/I/61SUj2aKoE...</td>\n",
              "      <td>/Apple-Cancellation-Transparency-Personalized-...</td>\n",
              "      <td>2025-08-21 11:14:29</td>\n",
              "    </tr>\n",
              "    <tr>\n",
              "      <th>4</th>\n",
              "      <td>Apple AirTag 4 Pack. Keep Track of and find Yo...</td>\n",
              "      <td>4.8 out of 5 stars</td>\n",
              "      <td>28,988</td>\n",
              "      <td>10K+ bought in past month</td>\n",
              "      <td>NaN</td>\n",
              "      <td>basic variant price: $72.74</td>\n",
              "      <td>No Discount</td>\n",
              "      <td>No Badge</td>\n",
              "      <td>Organic</td>\n",
              "      <td>No Coupon</td>\n",
              "      <td>NaN</td>\n",
              "      <td>NaN</td>\n",
              "      <td>NaN</td>\n",
              "      <td>https://m.media-amazon.com/images/I/61bMNCeAUA...</td>\n",
              "      <td>/Apple-MX542LL-A-AirTag-Pack/dp/B0D54JZTHY/ref...</td>\n",
              "      <td>2025-08-21 11:14:29</td>\n",
              "    </tr>\n",
              "  </tbody>\n",
              "</table>\n",
              "</div>\n",
              "    <div class=\"colab-df-buttons\">\n",
              "\n",
              "  <div class=\"colab-df-container\">\n",
              "    <button class=\"colab-df-convert\" onclick=\"convertToInteractive('df-61da9b3d-694b-444e-89d4-0bae09fb8b7d')\"\n",
              "            title=\"Convert this dataframe to an interactive table.\"\n",
              "            style=\"display:none;\">\n",
              "\n",
              "  <svg xmlns=\"http://www.w3.org/2000/svg\" height=\"24px\" viewBox=\"0 -960 960 960\">\n",
              "    <path d=\"M120-120v-720h720v720H120Zm60-500h600v-160H180v160Zm220 220h160v-160H400v160Zm0 220h160v-160H400v160ZM180-400h160v-160H180v160Zm440 0h160v-160H620v160ZM180-180h160v-160H180v160Zm440 0h160v-160H620v160Z\"/>\n",
              "  </svg>\n",
              "    </button>\n",
              "\n",
              "  <style>\n",
              "    .colab-df-container {\n",
              "      display:flex;\n",
              "      gap: 12px;\n",
              "    }\n",
              "\n",
              "    .colab-df-convert {\n",
              "      background-color: #E8F0FE;\n",
              "      border: none;\n",
              "      border-radius: 50%;\n",
              "      cursor: pointer;\n",
              "      display: none;\n",
              "      fill: #1967D2;\n",
              "      height: 32px;\n",
              "      padding: 0 0 0 0;\n",
              "      width: 32px;\n",
              "    }\n",
              "\n",
              "    .colab-df-convert:hover {\n",
              "      background-color: #E2EBFA;\n",
              "      box-shadow: 0px 1px 2px rgba(60, 64, 67, 0.3), 0px 1px 3px 1px rgba(60, 64, 67, 0.15);\n",
              "      fill: #174EA6;\n",
              "    }\n",
              "\n",
              "    .colab-df-buttons div {\n",
              "      margin-bottom: 4px;\n",
              "    }\n",
              "\n",
              "    [theme=dark] .colab-df-convert {\n",
              "      background-color: #3B4455;\n",
              "      fill: #D2E3FC;\n",
              "    }\n",
              "\n",
              "    [theme=dark] .colab-df-convert:hover {\n",
              "      background-color: #434B5C;\n",
              "      box-shadow: 0px 1px 3px 1px rgba(0, 0, 0, 0.15);\n",
              "      filter: drop-shadow(0px 1px 2px rgba(0, 0, 0, 0.3));\n",
              "      fill: #FFFFFF;\n",
              "    }\n",
              "  </style>\n",
              "\n",
              "    <script>\n",
              "      const buttonEl =\n",
              "        document.querySelector('#df-61da9b3d-694b-444e-89d4-0bae09fb8b7d button.colab-df-convert');\n",
              "      buttonEl.style.display =\n",
              "        google.colab.kernel.accessAllowed ? 'block' : 'none';\n",
              "\n",
              "      async function convertToInteractive(key) {\n",
              "        const element = document.querySelector('#df-61da9b3d-694b-444e-89d4-0bae09fb8b7d');\n",
              "        const dataTable =\n",
              "          await google.colab.kernel.invokeFunction('convertToInteractive',\n",
              "                                                    [key], {});\n",
              "        if (!dataTable) return;\n",
              "\n",
              "        const docLinkHtml = 'Like what you see? Visit the ' +\n",
              "          '<a target=\"_blank\" href=https://colab.research.google.com/notebooks/data_table.ipynb>data table notebook</a>'\n",
              "          + ' to learn more about interactive tables.';\n",
              "        element.innerHTML = '';\n",
              "        dataTable['output_type'] = 'display_data';\n",
              "        await google.colab.output.renderOutput(dataTable, element);\n",
              "        const docLink = document.createElement('div');\n",
              "        docLink.innerHTML = docLinkHtml;\n",
              "        element.appendChild(docLink);\n",
              "      }\n",
              "    </script>\n",
              "  </div>\n",
              "\n",
              "\n",
              "    <div id=\"df-01cf5010-c727-46b5-be72-e201ea12ffc9\">\n",
              "      <button class=\"colab-df-quickchart\" onclick=\"quickchart('df-01cf5010-c727-46b5-be72-e201ea12ffc9')\"\n",
              "                title=\"Suggest charts\"\n",
              "                style=\"display:none;\">\n",
              "\n",
              "<svg xmlns=\"http://www.w3.org/2000/svg\" height=\"24px\"viewBox=\"0 0 24 24\"\n",
              "     width=\"24px\">\n",
              "    <g>\n",
              "        <path d=\"M19 3H5c-1.1 0-2 .9-2 2v14c0 1.1.9 2 2 2h14c1.1 0 2-.9 2-2V5c0-1.1-.9-2-2-2zM9 17H7v-7h2v7zm4 0h-2V7h2v10zm4 0h-2v-4h2v4z\"/>\n",
              "    </g>\n",
              "</svg>\n",
              "      </button>\n",
              "\n",
              "<style>\n",
              "  .colab-df-quickchart {\n",
              "      --bg-color: #E8F0FE;\n",
              "      --fill-color: #1967D2;\n",
              "      --hover-bg-color: #E2EBFA;\n",
              "      --hover-fill-color: #174EA6;\n",
              "      --disabled-fill-color: #AAA;\n",
              "      --disabled-bg-color: #DDD;\n",
              "  }\n",
              "\n",
              "  [theme=dark] .colab-df-quickchart {\n",
              "      --bg-color: #3B4455;\n",
              "      --fill-color: #D2E3FC;\n",
              "      --hover-bg-color: #434B5C;\n",
              "      --hover-fill-color: #FFFFFF;\n",
              "      --disabled-bg-color: #3B4455;\n",
              "      --disabled-fill-color: #666;\n",
              "  }\n",
              "\n",
              "  .colab-df-quickchart {\n",
              "    background-color: var(--bg-color);\n",
              "    border: none;\n",
              "    border-radius: 50%;\n",
              "    cursor: pointer;\n",
              "    display: none;\n",
              "    fill: var(--fill-color);\n",
              "    height: 32px;\n",
              "    padding: 0;\n",
              "    width: 32px;\n",
              "  }\n",
              "\n",
              "  .colab-df-quickchart:hover {\n",
              "    background-color: var(--hover-bg-color);\n",
              "    box-shadow: 0 1px 2px rgba(60, 64, 67, 0.3), 0 1px 3px 1px rgba(60, 64, 67, 0.15);\n",
              "    fill: var(--button-hover-fill-color);\n",
              "  }\n",
              "\n",
              "  .colab-df-quickchart-complete:disabled,\n",
              "  .colab-df-quickchart-complete:disabled:hover {\n",
              "    background-color: var(--disabled-bg-color);\n",
              "    fill: var(--disabled-fill-color);\n",
              "    box-shadow: none;\n",
              "  }\n",
              "\n",
              "  .colab-df-spinner {\n",
              "    border: 2px solid var(--fill-color);\n",
              "    border-color: transparent;\n",
              "    border-bottom-color: var(--fill-color);\n",
              "    animation:\n",
              "      spin 1s steps(1) infinite;\n",
              "  }\n",
              "\n",
              "  @keyframes spin {\n",
              "    0% {\n",
              "      border-color: transparent;\n",
              "      border-bottom-color: var(--fill-color);\n",
              "      border-left-color: var(--fill-color);\n",
              "    }\n",
              "    20% {\n",
              "      border-color: transparent;\n",
              "      border-left-color: var(--fill-color);\n",
              "      border-top-color: var(--fill-color);\n",
              "    }\n",
              "    30% {\n",
              "      border-color: transparent;\n",
              "      border-left-color: var(--fill-color);\n",
              "      border-top-color: var(--fill-color);\n",
              "      border-right-color: var(--fill-color);\n",
              "    }\n",
              "    40% {\n",
              "      border-color: transparent;\n",
              "      border-right-color: var(--fill-color);\n",
              "      border-top-color: var(--fill-color);\n",
              "    }\n",
              "    60% {\n",
              "      border-color: transparent;\n",
              "      border-right-color: var(--fill-color);\n",
              "    }\n",
              "    80% {\n",
              "      border-color: transparent;\n",
              "      border-right-color: var(--fill-color);\n",
              "      border-bottom-color: var(--fill-color);\n",
              "    }\n",
              "    90% {\n",
              "      border-color: transparent;\n",
              "      border-bottom-color: var(--fill-color);\n",
              "    }\n",
              "  }\n",
              "</style>\n",
              "\n",
              "      <script>\n",
              "        async function quickchart(key) {\n",
              "          const quickchartButtonEl =\n",
              "            document.querySelector('#' + key + ' button');\n",
              "          quickchartButtonEl.disabled = true;  // To prevent multiple clicks.\n",
              "          quickchartButtonEl.classList.add('colab-df-spinner');\n",
              "          try {\n",
              "            const charts = await google.colab.kernel.invokeFunction(\n",
              "                'suggestCharts', [key], {});\n",
              "          } catch (error) {\n",
              "            console.error('Error during call to suggestCharts:', error);\n",
              "          }\n",
              "          quickchartButtonEl.classList.remove('colab-df-spinner');\n",
              "          quickchartButtonEl.classList.add('colab-df-quickchart-complete');\n",
              "        }\n",
              "        (() => {\n",
              "          let quickchartButtonEl =\n",
              "            document.querySelector('#df-01cf5010-c727-46b5-be72-e201ea12ffc9 button');\n",
              "          quickchartButtonEl.style.display =\n",
              "            google.colab.kernel.accessAllowed ? 'block' : 'none';\n",
              "        })();\n",
              "      </script>\n",
              "    </div>\n",
              "\n",
              "    </div>\n",
              "  </div>\n"
            ],
            "application/vnd.google.colaboratory.intrinsic+json": {
              "type": "dataframe",
              "variable_name": "df",
              "summary": "{\n  \"name\": \"df\",\n  \"rows\": 42675,\n  \"fields\": [\n    {\n      \"column\": \"title\",\n      \"properties\": {\n        \"dtype\": \"category\",\n        \"num_unique_values\": 8808,\n        \"samples\": [\n          \"Targus USB-C Dual HDMI 4K Docking Station with 100W PD Pass-Thru - Expand Your HDMI, USB, and Ethernet Connections On-The-Go (DOCK423TT)\",\n          \"WAVLINK USB C and USB 3.0 to Dual 4K DisplayPort/HDMI Adapter, Displaylink Monitor Splitter Extended Display for Dual Monitor 4K@60Hz, HDMI/DP Splitter Compatible with Mac M1-M4,Window Laptop-Silver\",\n          \"BATTRY ALKLN DURA AA CD8\"\n        ],\n        \"semantic_type\": \"\",\n        \"description\": \"\"\n      }\n    },\n    {\n      \"column\": \"rating\",\n      \"properties\": {\n        \"dtype\": \"category\",\n        \"num_unique_values\": 31,\n        \"samples\": [\n          \"2.7 out of 5 stars\",\n          \"3.4 out of 5 stars\",\n          \"1.0 out of 5 stars\"\n        ],\n        \"semantic_type\": \"\",\n        \"description\": \"\"\n      }\n    },\n    {\n      \"column\": \"number_of_reviews\",\n      \"properties\": {\n        \"dtype\": \"category\",\n        \"num_unique_values\": 4413,\n        \"samples\": [\n          \"223\",\n          \"14,506\",\n          \"2,049\"\n        ],\n        \"semantic_type\": \"\",\n        \"description\": \"\"\n      }\n    },\n    {\n      \"column\": \"bought_in_last_month\",\n      \"properties\": {\n        \"dtype\": \"category\",\n        \"num_unique_values\": 59,\n        \"samples\": [\n          \"300+ bought in past month\",\n          \"100+ bought in past month\",\n          \"More Buying Choices\"\n        ],\n        \"semantic_type\": \"\",\n        \"description\": \"\"\n      }\n    },\n    {\n      \"column\": \"current/discounted_price\",\n      \"properties\": {\n        \"dtype\": \"category\",\n        \"num_unique_values\": 2576,\n        \"samples\": [\n          \"17.88\",\n          \"11.47\",\n          \"107.97\"\n        ],\n        \"semantic_type\": \"\",\n        \"description\": \"\"\n      }\n    },\n    {\n      \"column\": \"price_on_variant\",\n      \"properties\": {\n        \"dtype\": \"category\",\n        \"num_unique_values\": 3466,\n        \"samples\": [\n          \"basic variant price: $17.49\",\n          \"basic variant price: $13.94\",\n          \"basic variant price: $167.99\"\n        ],\n        \"semantic_type\": \"\",\n        \"description\": \"\"\n      }\n    },\n    {\n      \"column\": \"listed_price\",\n      \"properties\": {\n        \"dtype\": \"category\",\n        \"num_unique_values\": 911,\n        \"samples\": [\n          \"$275.99\",\n          \"$161.99\",\n          \"$6.38\"\n        ],\n        \"semantic_type\": \"\",\n        \"description\": \"\"\n      }\n    },\n    {\n      \"column\": \"is_best_seller\",\n      \"properties\": {\n        \"dtype\": \"category\",\n        \"num_unique_values\": 12,\n        \"samples\": [\n          \"Save 10%\",\n          \"Ends in\",\n          \"No Badge\"\n        ],\n        \"semantic_type\": \"\",\n        \"description\": \"\"\n      }\n    },\n    {\n      \"column\": \"is_sponsored\",\n      \"properties\": {\n        \"dtype\": \"category\",\n        \"num_unique_values\": 2,\n        \"samples\": [\n          \"Organic\",\n          \"Sponsored\"\n        ],\n        \"semantic_type\": \"\",\n        \"description\": \"\"\n      }\n    },\n    {\n      \"column\": \"is_couponed\",\n      \"properties\": {\n        \"dtype\": \"category\",\n        \"num_unique_values\": 42,\n        \"samples\": [\n          \"Save $50.00  with coupon\",\n          \"Save 6%  with coupon\"\n        ],\n        \"semantic_type\": \"\",\n        \"description\": \"\"\n      }\n    },\n    {\n      \"column\": \"buy_box_availability\",\n      \"properties\": {\n        \"dtype\": \"category\",\n        \"num_unique_values\": 1,\n        \"samples\": [\n          \"Add to cart\"\n        ],\n        \"semantic_type\": \"\",\n        \"description\": \"\"\n      }\n    },\n    {\n      \"column\": \"delivery_details\",\n      \"properties\": {\n        \"dtype\": \"category\",\n        \"num_unique_values\": 298,\n        \"samples\": [\n          \"$17.49 delivery\"\n        ],\n        \"semantic_type\": \"\",\n        \"description\": \"\"\n      }\n    },\n    {\n      \"column\": \"sustainability_badges\",\n      \"properties\": {\n        \"dtype\": \"category\",\n        \"num_unique_values\": 16,\n        \"samples\": [\n          \"Carbon impact\"\n        ],\n        \"semantic_type\": \"\",\n        \"description\": \"\"\n      }\n    },\n    {\n      \"column\": \"image_url\",\n      \"properties\": {\n        \"dtype\": \"category\",\n        \"num_unique_values\": 8038,\n        \"samples\": [\n          \"https://m.media-amazon.com/images/I/719dkqqyBjL._AC_UL320_.jpg\"\n        ],\n        \"semantic_type\": \"\",\n        \"description\": \"\"\n      }\n    },\n    {\n      \"column\": \"product_url\",\n      \"properties\": {\n        \"dtype\": \"string\",\n        \"num_unique_values\": 40606,\n        \"samples\": [\n          \"/Astro-A30-XBOX-White-Gaming-Console/dp/B09NNJYGB4/ref=sr_1_21800?dib=eyJ2IjoiMSJ9._J2ujxrQnUFwhM7dsrEXna3V9_b5y27QvdtOXNCJHTFcVfTHsgq2_kW2Hf-6GWz6Jsyytvn2dy9Swv2P8xa4b-CcfZ1560SrT0XNwKWS-2YPA7k1YhTmMXBbx8mFmIgCNfC6Un5kw1Fd5i7VZcDV1twwPhV3N2mQT3B3lfF2Jg1bmaOGzEU5dyrsIDfK8WXrIwpK57LP51c8vpAvWFJ4fAEA8PSgWBK_t1ttKD2m30-zXUXWEVPBHipNzVvY928LwZe4HWezEGIr-KHkqR7U2ZiaCooa3Q8S4X-6DkbD3ik.uVKeC1WfiPsPyGaPX0G4rj2REqVlbfiOfGyATOmImA0&dib_tag=se&qid=1756306945&refinements=p_n_g-101014971069111%3A119653281011&s=electronics&sr=1-21800\"\n        ],\n        \"semantic_type\": \"\",\n        \"description\": \"\"\n      }\n    },\n    {\n      \"column\": \"collected_at\",\n      \"properties\": {\n        \"dtype\": \"object\",\n        \"num_unique_values\": 1559,\n        \"samples\": [\n          \"2025-08-30 19:48:45\"\n        ],\n        \"semantic_type\": \"\",\n        \"description\": \"\"\n      }\n    }\n  ]\n}"
            }
          },
          "metadata": {},
          "execution_count": 42
        }
      ]
    },
    {
      "cell_type": "code",
      "source": [
        "df.shape"
      ],
      "metadata": {
        "colab": {
          "base_uri": "https://localhost:8080/"
        },
        "id": "FHLtn1blOfKi",
        "outputId": "8c8d35e7-327a-4222-8586-535dc2993bb4"
      },
      "execution_count": 43,
      "outputs": [
        {
          "output_type": "execute_result",
          "data": {
            "text/plain": [
              "(42675, 16)"
            ]
          },
          "metadata": {},
          "execution_count": 43
        }
      ]
    },
    {
      "cell_type": "code",
      "source": [
        "df = df.drop(columns=[\"product_url\", \"image_url\", \"delivery_details\"])\n",
        "print(\"Colunas Limpas\")"
      ],
      "metadata": {
        "colab": {
          "base_uri": "https://localhost:8080/"
        },
        "id": "lhrfstr8OmJB",
        "outputId": "d6aa1b63-1b8a-47bb-abaa-66e9e232156d"
      },
      "execution_count": 44,
      "outputs": [
        {
          "output_type": "stream",
          "name": "stdout",
          "text": [
            "Colunas Limpas\n"
          ]
        }
      ]
    },
    {
      "cell_type": "code",
      "source": [
        "df[\"bought_in_last_month\"] = df[\"bought_in_last_month\"].str.replace(r\"\\+.*\", \"\", regex=True)\n",
        "df[\"bought_in_last_month\"] = df[\"bought_in_last_month\"].str.replace(r\"K\", \"000\", regex=True)\n",
        "df[\"bought_in_last_month\"] = pd.to_numeric(\n",
        "    df[\"bought_in_last_month\"].str.split(\"+\").str[0],\n",
        "    errors=\"coerce\"\n",
        ")\n",
        "print(\"Tratamento da quantidade de vendas no último mês realizada\")"
      ],
      "metadata": {
        "colab": {
          "base_uri": "https://localhost:8080/"
        },
        "id": "cZwazXiJOUcy",
        "outputId": "26b59f00-ca10-4ec4-c893-44200f0630d0"
      },
      "execution_count": 45,
      "outputs": [
        {
          "output_type": "stream",
          "name": "stdout",
          "text": [
            "Tratamento da quantidade de vendas no último mês realizada\n"
          ]
        }
      ]
    },
    {
      "cell_type": "code",
      "source": [
        "df[\"rating\"] = df[\"rating\"].str[:3]\n",
        "df[\"rating\"] = pd.to_numeric(\n",
        "    df[\"rating\"].str.split(\"+\").str[0],\n",
        "    errors=\"coerce\"\n",
        ")\n",
        "print(\"Tratamento do rating feito, o rating está de 0 a 5\")"
      ],
      "metadata": {
        "id": "W-PC-svtPSfo",
        "outputId": "dbb5a58f-e487-44ea-a454-80b508bf8993",
        "colab": {
          "base_uri": "https://localhost:8080/"
        }
      },
      "execution_count": 46,
      "outputs": [
        {
          "output_type": "stream",
          "name": "stdout",
          "text": [
            "Tratamento do rating feito, o rating está de 0 a 5\n"
          ]
        }
      ]
    },
    {
      "cell_type": "code",
      "source": [
        "df[\"listed_price_value\"] = (\n",
        "    df[\"listed_price\"]\n",
        "    .str.replace(\"$\", \"\", regex=False)\n",
        "    .str.replace(\" \", \"\", regex=False)\n",
        "    .replace(\"NoDiscount\", \"0\")\n",
        ")\n",
        "df[\"listed_price_value\"] = pd.to_numeric(df[\"listed_price_value\"], errors=\"coerce\").fillna(0)\n",
        "df = df.drop(columns=[\"listed_price\"])\n",
        "print(\"A coluna listed price value foi tratada em uma coluna que apresenta os valores presentes\")"
      ],
      "metadata": {
        "id": "yhqRpqACPevl",
        "outputId": "da17f3d6-7072-4f92-e5ed-bad517dd6aab",
        "colab": {
          "base_uri": "https://localhost:8080/"
        }
      },
      "execution_count": 47,
      "outputs": [
        {
          "output_type": "stream",
          "name": "stdout",
          "text": [
            "A coluna listed price value foi tratada em uma coluna que apresenta os valores presentes\n"
          ]
        }
      ]
    },
    {
      "cell_type": "code",
      "source": [
        "s = df[\"is_couponed\"].fillna(\"\")\n",
        "pct_raw = s.str.extract(r'(\\d+(?:\\.\\d+)?)\\s*%', expand=False)\n",
        "val_raw = s.str.extract(r'\\$\\s*([0-9]+(?:\\.[0-9]+)?)', expand=False)\n",
        "df[\"coupon_discount_percentage\"] = np.where(\n",
        "    pct_raw.notna(), pd.to_numeric(pct_raw, errors=\"coerce\") / 100.0, 0.0\n",
        ")\n",
        "df[\"coupon_discount_value\"] = np.where(\n",
        "    val_raw.notna(), pd.to_numeric(val_raw, errors=\"coerce\"), 0.0\n",
        ")\n",
        "mask_no = s.str.contains(\"No Coupon\", case=False, na=False)\n",
        "df.loc[mask_no, [\"coupon_discount_percentage\", \"coupon_discount_value\"]] = 0.0\n",
        "df = df.drop(columns=[\"is_couponed\"])\n",
        "print(\"Tratamento da coluna is_couponed foi divida em duas colunas, a que oferece desconto em porcentagem e a que oferece desconto em valores absolutos\")\n"
      ],
      "metadata": {
        "id": "8fs2ZQJ8PwuI",
        "outputId": "778cd06b-7645-479a-a90a-67f4bc45598c",
        "colab": {
          "base_uri": "https://localhost:8080/"
        }
      },
      "execution_count": 48,
      "outputs": [
        {
          "output_type": "stream",
          "name": "stdout",
          "text": [
            "Tratamento da coluna is_couponed foi divida em duas colunas, a que oferece desconto em porcentagem e a que oferece desconto em valores absolutos\n"
          ]
        }
      ]
    },
    {
      "cell_type": "code",
      "source": [
        "# Extrair somente valores depois do \"$\"\n",
        "df[\"price_on_variant\"] = (\n",
        "    df[\"price_on_variant\"]\n",
        "    .str.extract(r'\\$([0-9]+(?:\\.[0-9]+)?)', expand=False)  # captura números após $\n",
        "    .fillna(0)                                             # se não houver, vira 0\n",
        "    .astype(float)                                         # converte para número\n",
        ")"
      ],
      "metadata": {
        "id": "1SdAQEGKDBmC"
      },
      "execution_count": 49,
      "outputs": []
    },
    {
      "cell_type": "code",
      "source": [
        "# Garantir tipos numéricos\n",
        "cur = pd.to_numeric(df[\"current/discounted_price\"], errors=\"coerce\")\n",
        "pct = pd.to_numeric(df.get(\"coupon_discount_percentage\", 0), errors=\"coerce\").fillna(0.0)\n",
        "val = pd.to_numeric(df.get(\"coupon_discount_value\", 0), errors=\"coerce\").fillna(0.0)\n",
        "variant = pd.to_numeric(df.get(\"price_on_variant\", 0), errors=\"coerce\")\n",
        "\n",
        "# Regras:\n",
        "# 1) Se houver % de desconto: preço original = cur / (1 - pct)\n",
        "#    (evitar divisão por zero; clip pct para [0, 0.999999])\n",
        "pct_safe = pct.clip(lower=0.0, upper=0.999999)\n",
        "price_from_pct = cur / (1.0 - pct_safe)\n",
        "\n",
        "# 2) Se houver valor absoluto: preço original = cur + val\n",
        "price_from_val = cur + val\n",
        "\n",
        "# 3) Se não houver desconto: preço original = cur\n",
        "price_from_cur = cur\n",
        "\n",
        "# 4) Fallback: se cur for NaN, usar price_on_variant\n",
        "# Montagem final (prioridade: pct > 0  -> val > 0 -> cur -> variant)\n",
        "cond_pct = (cur.notna()) & (pct > 0)\n",
        "cond_val = (cur.notna()) & (pct == 0) & (val > 0)\n",
        "cond_cur = (cur.notna()) & (pct == 0) & (val == 0)\n",
        "\n",
        "df[\"price\"] = np.select(\n",
        "    [cond_pct, cond_val, cond_cur],\n",
        "    [price_from_pct, price_from_val, price_from_cur],\n",
        "    default=variant\n",
        ")\n",
        "\n",
        "# Opcional: se quiser garantir float\n",
        "df[\"price\"] = df[\"price\"].astype(float)\n"
      ],
      "metadata": {
        "id": "TzcGMI2LDEhm"
      },
      "execution_count": 50,
      "outputs": []
    },
    {
      "cell_type": "code",
      "source": [
        "patterns = {\n",
        "    \"energy_efficiency\": r\"\\bEnergy efficiency\\b\",\n",
        "    \"work_with_alexa\": r\"(Works with Alexa|Alexa Built[- ]?in)\",\n",
        "    \"small_business\": r\"\\bSmall Business\\b\",\n",
        "    \"carbon_impact\": r\"\\bCarbon impact\\b\",\n",
        "}\n",
        "\n",
        "s = df[\"sustainability_badges\"].fillna(\"\")\n",
        "\n",
        "for col, rx in patterns.items():\n",
        "    if col.lower() != \"made_in_italy\":  # garante que nunca criamos essa coluna\n",
        "        df[col] = s.str.contains(rx, case=False, na=False).astype(int)\n",
        "\n",
        "df = df.drop(columns=[\"sustainability_badges\"])\n",
        "print(\"Tratamento da coluna de badges feita, agora há colunas binárias\")"
      ],
      "metadata": {
        "id": "-bxhZbcOPwYw",
        "colab": {
          "base_uri": "https://localhost:8080/"
        },
        "outputId": "ae389589-5775-4fb5-d7d0-83dccea52e9b"
      },
      "execution_count": 51,
      "outputs": [
        {
          "output_type": "stream",
          "name": "stdout",
          "text": [
            "Tratamento da coluna de badges feita, agora há colunas binárias\n"
          ]
        },
        {
          "output_type": "stream",
          "name": "stderr",
          "text": [
            "/tmp/ipython-input-3371970532.py:12: UserWarning: This pattern is interpreted as a regular expression, and has match groups. To actually get the groups, use str.extract.\n",
            "  df[col] = s.str.contains(rx, case=False, na=False).astype(int)\n"
          ]
        }
      ]
    },
    {
      "cell_type": "code",
      "source": [
        "df = df.rename(columns={\"buy_box_availability\": \"add_to_cart_available\"})\n",
        "\n",
        "df[\"add_to_cart_available\"] = (\n",
        "    df[\"add_to_cart_available\"]\n",
        "    .fillna(\"\")                                 # substitui NaN por string vazia\n",
        "    .str.contains(\"Add to cart\", case=False)    # checa se contém \"Add to cart\"\n",
        "    .astype(int)                                # transforma True/False em 1/0\n",
        ")\n",
        "print(\"Coluna de buy_box_availability só havia uma informação - add to cart - ou - NaaN, então ela foi renomeada para add_to_cart_available e agora é binária, 1 ou 0\")"
      ],
      "metadata": {
        "colab": {
          "base_uri": "https://localhost:8080/"
        },
        "id": "QgpwKgbJj0fB",
        "outputId": "fd83a97a-8493-4414-a2e0-011cae864838"
      },
      "execution_count": 52,
      "outputs": [
        {
          "output_type": "stream",
          "name": "stdout",
          "text": [
            "Coluna de buy_box_availability só havia uma informação - add to cart - ou - NaaN, então ela foi renomeada para add_to_cart_available e agora é binária, 1 ou 0\n"
          ]
        }
      ]
    },
    {
      "cell_type": "code",
      "source": [
        "df[\"is_sponsored\"] = np.where(df[\"is_sponsored\"] == \"Sponsored\", 1, 0)\n",
        "print(\"A coluna is_sponsored tinha uma string para se era patrocinado ou não, foi tratado, agora é binário com 1 para sponsored e 0 para não\")"
      ],
      "metadata": {
        "colab": {
          "base_uri": "https://localhost:8080/"
        },
        "id": "GN_CXdMJj1uL",
        "outputId": "40e32353-738b-4070-8197-daf84d23a778"
      },
      "execution_count": 53,
      "outputs": [
        {
          "output_type": "stream",
          "name": "stdout",
          "text": [
            "A coluna is_sponsored tinha uma string para se era patrocinado ou não, foi tratado, agora é binário com 1 para sponsored e 0 para não\n"
          ]
        }
      ]
    },
    {
      "cell_type": "code",
      "source": [
        "df[\"collected_at\"] = pd.to_datetime(df[\"collected_at\"], errors=\"coerce\")\n",
        "df[\"collected_at\"] = df[\"collected_at\"].dt.month\n",
        "print(\"Mantido só o mês que é a informação crucial da data da coleta, o ano é só 2025\")"
      ],
      "metadata": {
        "colab": {
          "base_uri": "https://localhost:8080/"
        },
        "id": "BZJMaShEj2M6",
        "outputId": "7b2a76f8-fa50-4c44-cc2e-00b541e8c3b6"
      },
      "execution_count": 54,
      "outputs": [
        {
          "output_type": "stream",
          "name": "stdout",
          "text": [
            "Mantido só o mês que é a informação crucial da data da coleta, o ano é só 2025\n"
          ]
        }
      ]
    },
    {
      "cell_type": "code",
      "source": [
        "df[\"best_seller\"] = df[\"is_best_seller\"].str.contains(\"Best Seller\", case=False, na=False).astype(int)\n",
        "\n",
        "df[\"amazon_choice\"] = df[\"is_best_seller\"].str.contains(\"Amazon\", case=False, na=False).astype(int)\n",
        "\n",
        "df[\"best_seller_discount\"] = (\n",
        "    df[\"is_best_seller\"]\n",
        "    .str.extract(r\"Save\\s*(\\d+)%\", expand=False)   # pega o número depois de \"Save\"\n",
        "    .fillna(0)\n",
        "    .astype(int)\n",
        "    / 100.0                                        # normaliza entre 0 e 1\n",
        ")\n",
        "df = df.drop(columns=[\"is_best_seller\"])\n",
        "print(\"Coluna de selo Amazon tratada, criada 2 colunas binárias se é best_seller e se é amazon_choice, e se há desconto do vendedor ativo com o valor do desconto em float\")"
      ],
      "metadata": {
        "colab": {
          "base_uri": "https://localhost:8080/"
        },
        "id": "ARyf1POYj3h7",
        "outputId": "7d158cf2-de2f-443f-e928-31a0ee358d3b"
      },
      "execution_count": 55,
      "outputs": [
        {
          "output_type": "stream",
          "name": "stdout",
          "text": [
            "Coluna de selo Amazon tratada, criada 2 colunas binárias se é best_seller e se é amazon_choice, e se há desconto do vendedor ativo com o valor do desconto em float\n"
          ]
        }
      ]
    },
    {
      "cell_type": "code",
      "source": [
        "df[\"current/discounted_price\"] = (df[\"current/discounted_price\"].fillna(0))\n",
        "\n",
        "col = \"current/discounted_price\"\n",
        "\n",
        "df[col] = (\n",
        "    df[col]\n",
        "    .astype(str)\n",
        "    .str.strip()\n",
        "    .str.replace(r\"[^\\d\\.\\-]\", \"\", regex=True)\n",
        "    .replace({\"\": None})\n",
        "    .pipe(pd.to_numeric, errors=\"coerce\")\n",
        "    .fillna(0)\n",
        ")\n",
        "\n",
        "df[\"current/discounted_price\"] = pd.to_numeric(df[\"current/discounted_price\"])\n",
        "\n",
        "print(\"Descontos limpos e passados para número\")"
      ],
      "metadata": {
        "colab": {
          "base_uri": "https://localhost:8080/"
        },
        "id": "lBEYXsdzj5cg",
        "outputId": "4bcde268-9dfb-45cf-d1ed-d082a721aa10"
      },
      "execution_count": 56,
      "outputs": [
        {
          "output_type": "stream",
          "name": "stdout",
          "text": [
            "Descontos limpos e passados para número\n"
          ]
        }
      ]
    },
    {
      "cell_type": "code",
      "source": [
        "df[\"marca\"] = df[\"title\"].str.split().str[0]\n",
        "df[\"title\"] = df[\"title\"].str.split(n=1).str[1]"
      ],
      "metadata": {
        "id": "qnFUgIKOj6ok"
      },
      "execution_count": 57,
      "outputs": []
    },
    {
      "cell_type": "code",
      "source": [
        "df[\"sales_quantity\"] = 1\n",
        "df = (\n",
        "    df.groupby(list(df.columns.drop(\"sales_quantity\")), as_index=False)\n",
        "      .agg({\"sales_quantity\": \"sum\"})\n",
        ")\n",
        "print(\"Linhas duplicadas removidas e adicionado total de vendas em uma coluna\")"
      ],
      "metadata": {
        "id": "JsaH6_MJDQkc",
        "outputId": "3cbf74f0-6462-4025-d457-6662b953ce5b",
        "colab": {
          "base_uri": "https://localhost:8080/"
        }
      },
      "execution_count": 58,
      "outputs": [
        {
          "output_type": "stream",
          "name": "stdout",
          "text": [
            "Linhas duplicadas removidas e adicionado total de vendas em uma coluna\n"
          ]
        }
      ]
    },
    {
      "cell_type": "code",
      "source": [
        "lista_marcas = df[\"marca\"].unique().tolist()\n",
        "print(\"A lista de marcas:\")\n",
        "print(lista_marcas)"
      ],
      "metadata": {
        "colab": {
          "base_uri": "https://localhost:8080/"
        },
        "id": "u56GK2itj-jU",
        "outputId": "fd29ead4-4305-422e-aea7-94ca0c5e5d96"
      },
      "execution_count": 59,
      "outputs": [
        {
          "output_type": "stream",
          "name": "stdout",
          "text": [
            "A lista de marcas:\n",
            "['Melissa', 'SAMSUNG', 'Uniden', 'ARRIS', 'Joy-Con', 'Brady', 'Poly', 'Winegard', 'Seagate', 'On-Stage', 'ML10-12', 'HP', 'Maxell', 'Duracell', 'Nilight', 'Lexmark', 'Linksys', 'GIGABYTE', 'OtterBox', 'Plantronics', 'Logitech', 'VER96155', 'acer', 'Celestron', 'Sony', 'Zebra', 'Energizer', 'Dell', 'Targus', 'Peugeot', 'JBL', 'Epson', 'Creative', '6COU', 'Midland', 'Microsoft', 'Hyperkin', 'OWC', 'Lowrance', 'Garmin', 'Canon', 'Presto', 'VIVO', 'SurgeMaster', 'Monoprice', 'PGYTECH', 'Sennheiser', 'UGREEN', 'Acer', 'SimpliSafe', 'OnePlus', 'UBeesize', 'SABRENT', 'NETGEAR', 'KODAK', 'Lenovo', 'Powermax', 'ACDelco', 'Baseus', 'Pelican', 'TP-Link', 'Synology', 'AINOPE', 'SABRE', 'Belkin', 'Insta360', 'SwissGear', 'Avery', 'Sharp', 'Kodak', 'EPSON', 'PNY', 'SanDisk', 'Lexar', 'Transcend', 'VEVOR', 'DEWALT', 'BAGSMART', 'ASUS', 'Samsung', 'Tyler', 'MOSISO', 'Apple', 'Sigma', 'APC', 'Pyle', 'Ilford', 'Schlage', 'DURACELL', 'Sandisk', 'Crucial', 'Verbatim', 'Pentax', 'Tamron', 'LISEN', 'Dymo', 'Hp', 'StarTech.com', 'Toshiba', 'WD_Black', 'WD_BLACK', 'MEM', 'Roam', 'ESR', 'NEEWER', 'GVM', 'Fujifilm', 'Panasonic', 'iHome', 'FUJIFILM', 'CR', 'CHUWI', 'Blackview', 'VILTROX', 'Carhartt', 'Sceptre', 'Philips', 'VIZIO', 'TRENDnet', 'Westinghouse', 'AOC', 'LG', 'Anker', 'Kuryakyn', 'TTartisan', 'Monolith', 'Cobra', 'Manfrotto', 'Milwaukee', 'Lorex', 'Ortofon', 'FREECOM-X/Spirit', 'PlayStation', 'Playstation', 'Lisen', 'Neewer', 'RCA', 'AT&T', 'GE', 'adidas', 'GoPro', 'Mophie', 'Corsair', 'Nvidia', 'Google', 'Hisense', 'TCL', 'CORSAIR', 'Xbox', 'Stealthcam', 'Insta', 'Innova', 'Renata', 'Roku', 'Nintendo', 'DualShock', 'Metra', 'Humminbird', 'Cardo', 'Kicker', 'KICKER', 'Fellowes', 'Leviton', 'Replacement', 'Elgato', 'REOLINK', 'ORICO', 'Broan-NuTone', 'Arrow', 'PYLE-PRO', 'Shakespeare', 'Nikon', 'Motorola', 'Viper', 'Eaton', 'WD', 'Kate', 'Line', 'Kenwood', 'Lanzar', 'Sabrent', 'Streamlight', '8Bitdo', 'Lifetime', 'C2G', 'EVEREADY', 'Satechi', 'Jabra', 'EVGA', 'YAMAHA', 'TI', 'Xyron', 'KitchenAid', 'NANUK', 'Kingston', 'PHILIPS', 'Amazon', 'Pioneer', 'PIONEER', 'Astro', 'Shure', 'Gigabyte', 'MSI', 'ASRock', 'Rayovac', 'ENERGIZER', 'Furman', 'WAVLINK', 'GODOX', 'Godox', 'Behringer', 'Brother', 'G.SKILL', 'Rokinon', 'Intermatic', 'PDP', 'BATTRY', 'URBAN', 'Audio-Technica', 'Denon', 'Klipsch', 'Alienware', 'Intel', '2025', 'Ubiquiti', 'Fitbit', 'Sonos', 'Monster', 'Amazfit', 'Marshall', 'Honeywell', 'Purell', 'PowerA', 'soundcore', 'SteelSeries', 'DJI', 'Kryptonite', 'Armor', '8BitDo', 'HyperX', 'Aputure', 'New', 'Soundcore', 'Mitchum', '2019', '2018', 'My', 'Netgear', 'Under', 'Neenah', 'Yamaha', 'Polk', 'Dayton', 'STINGER', 'Stinger', 'EPOMAKER', 'DYMO', 'iOttie', 'Callaway', 'NUX', 'Samson', 'AmScope', 'Xerox', 'BlueParrott', 'Keychron', 'Asrock', 'Taramps', 'Focal', 'NITECORE', 'BAOFENG', 'Yealink', 'BOYA', 'BOSCH', 'Scosche', 'FiiO', 'Aquaphor', 'Wacom', 'Razer', 'Skullcandy', 'Muddy', 'Bose', 'AAA', 'Wyze', 'Rechargeable', 'Turtle', 'Case-Mate', \"Burt's\", 'Gardner', 'JanSport', 'Matte', 'Kensington', 'Sound', 'ION', 'CAT', 'Boogie', 'LOGITECH', 'SCUF', 'VELCRO', 'Scotch', 'U', '4PCS', 'Cerama', 'Cisco', 'USB', 'Antec', 'NZXT', 'STEALTH', 'VTech', 'EATON', 'Remington', 'ZHIYUN', 'NIkon', 'Seasonic', 'CyberPower', 'INTEL', 'Crosley', 'JVC', 'Oxford', 'Wiremold', 'Stealth', 'WYZE', 'Silhouette', 'Genuine', 'Nitecore', 'ARCTIC', 'Fintie', 'Speck', 'Retevis', 'Victrola', 'RØDE', 'Laptop', 'Battery', 'USB-C', 'Arlo', 'SONY', 'Kobo', 'Lutron', 'CHAMBERLAIN', 'ORION', 'Orion', 'Escort', 'Urnex', 'Kenneth', 'Polaroid', 'Astrobrights', 'Everlasting', 'HORI', 'Sirui', 'PUMA', 'Listerine', 'Command', 'Intel®', '100', 'La', 'Lume', 'Mercer', 'JOYTUTUS', 'WeatherTech', 'Square', 'DEERC', 'Ricoh', 'Dolphin', 'Makita', 'Casio', 'TASCAM', 'ZEBRA', 'beyerdynamic', 'Onkyo', 'Osprey', 'BOG', 'ELAC', \"Meguiar's\", 'TACTACAM', 'Office', 'Blackmagic', 'Peak', 'Fractal', '3M', 'TORRAS', 'Western', 'Antennas', 'Post-it', \"Walker's\", 'Pendaflex', 'Tapo', 'Incase', 'Nakamichi', 'Mounting', 'weBoost', 'Kyocera', '12-Pack', '10', '3x', 'Woods', 'Beelink', 'JABRA', 'Ultimate', 'Cummins', \"D'Addario\", 'Feit', 'Braun', 'Windex', 'TC', 'Staples', 'Eton', 'Proscan', '128GB', 'Pentel', '12pk', 'JLab', 'iFixit', 'PULSE', 'SANUS', '10-18mm', '70-200mm', '24-70mm', 'FEELWORLD', 'STANLEY', 'SCHLAGE', 'FUJITSU', 'Fujitsu', 'ROG', 'Bushnell', 'Super', 'Thrustmaster', 'Vic', 'Beats', 'Moultrie', 'Tonies', 'OEM', '2009-2014', 'Garmin®', 'Rockford', 'Skylight', 'Gator', '64GB', 'DS18', 'G-Shock', 'NOCO', 'Cync', 'Thermaltake', 'Predator', 'Simrad', 'GORILLA', 'BenQ', 'CyberPowerPC', 'ASTRO', 'Skytech', 'ZOTAC', 'TUF', 'Hasbro', 'Thule', 'NVIDIA', 'ZAGG', 'Coleman', 'AGM', 'Legion', 'Desktop', 'JOBY', 'ENCASED', 'Crunch', 'Zoom', 'SENNHEISER', 'Ooma', 'ADATA', 'Sangean', 'Hitachi', 'Original', 'POLY', 'The', 'CISCO', 'RAYOVAC', 'AVERY', 'Nike', 'Standard', 'Outward', 'Simple', 'MUDDY', 'SKLZ', 'Tilta', 'TEXAS', 'Boxed', 'LENOVO', 'EPOS', 'E-Z', '65XL', '61XL', '64XL', '67XL', 'Crayola', 'FujiFilm', 'Texas', 'Renogy', 'Dove', 'Nite', 'Jansport', 'FIIO', 'Cherry', 'KENWOOD', 'Koss', 'Harman', '(2)', '2', 'Accutime', 'Hape', 'Hello', 'Anne', 'Minn', 'K&M', 'LIAN', '2-Pack', 'ViewSonic', 'Altec', 'Rode', 'Next', 'Lian', 'Lithonia', 'Tripp', 'Master', 'Quad', 'Brother(R)', 'Icom', 'KYOCERA', 'Southwire', 'Carson', 'Beyerdynamic', 'JENSEN', 'Edifier', 'Fusion', 'OnStage', 'Cuisinart', 'Singing', 'Cooler', 'CoolerMaster', 'Mighty', 'Arduino', 'Comply', 'Oakley', 'Ray-Ban', 'Xiaomi', 'XIAOMI', 'MikroTik', 'Blink', 'MINISFORUM', 'PopSockets', 'Glorious', 'Samsonite', 'ARKON', 'Gaming', 'Bluetooth', 'Pantone', 'Fender', 'THE', 'SHOKZ', '4', 'Farberware', 'STAEDTLER', 'Compact', 'Hoover', 'Kanto', 'Dyson', 'Athlon', 'Vortex', 'Infant', 'DELL', 'Kasa', 'Waterproof', 'Easy-Going', 'Transformers', 'Sprayground', 'BLACK+DECKER', 'Canon®', '256GB', 'UBIQUITI', 'SoundPEATS', '4pc', 'Eneloop', 'Quality', 'Sharpie', '\\u200b\\u200b\\u200b\\u200bPopSockets', 'Ubeesize', 'TI-84', 'LiveScope™', 'PYLE', 'Champion', 'ZEISS', 'Microplane', 'GOJO', 'Technics', 'ELEGOO', 'AKG', 'Kleenex', 'Scott', 'Hewlett-Packard', 'SAMSON', 'Siemens', 'Oculus', 'Meta', 'UNIDEN', 'B450M-HDV', 'KUHN', 'Asus', 'Rockville', 'AMD', 'Ham', 'Fjallraven', 'Wii', 'OGIO', 'UPS', 'Water', 'Learning', 'Goodyear', 'Flexzilla', 'Kuhn', 'Ubisoft', 'BIC', 'LaCie', 'Spigen', 'Alpine', 'SIG', 'SureFire', 'VTECH', 'MOTOROLA', 'M-Audio', 'SIRUI', 'SiriusXM', 'SIRIUS-XM', 'SIRIUSXM', 'OM', 'Pyramex', 'Focusrite', 'TI-30XIIS', 'Yale', 'eufy', 'Atomos', 'RYDONAIR', 'Coach', 'Mount-It!', '4Pc', 'myQ', 'GHome', 'ecobee', 'Military', 'Blue', 'Sanus', 'Swingline', 'Moukey', 'Highland', 'Holy', 'CHERRY', 'Power', 'Midland®', 'Midland-', 'ABB', 'Thermalright', 'Audio', 'SilverStone', 'Nylabone', 'RICOH', 'Little', 'Performance', 'Klein', 'Care', 'Olympus', 'Nanit', 'Chuckit!', 'Scotts', 'Lian-Li', 'IRIS', 'Wahl', 'Baofeng', 'Adidas', 'ThinkPad', 'Kishi', '[Older', 'Pacsafe', 'BCW', 'STAR', 'YeaLink', 'Lasko', 'Racing', 'Quartet', 'Ring', 'TRANSFORMERS', '2891-20', 'RODE', 'Legrand', 'Kipling', 'BAGSMAT', 'MINISO', 'CanonCL-261', 'Wireless', 'Wrangler', 'NIKON', 'Zebra®', 'iFi', 'A', 'THOMESURGEP', 'Tile', 'One', 'KIWI', 'Made', 'Endust', 'Mikrotik', 'Case', '5', 'be', 'kate', 'C2G/Cables', 'Ergotron']\n"
          ]
        }
      ]
    },
    {
      "cell_type": "code",
      "source": [
        "brands_map = {\n",
        "    \"Apple\": \"Consumer Electronics & Technology\",\n",
        "    \"Samsung\": \"Consumer Electronics & Technology\",\n",
        "    \"LG\": \"Consumer Electronics & Technology\",\n",
        "    \"Sony\": \"Consumer Electronics & Technology\",\n",
        "    \"Panasonic\": \"Consumer Electronics & Technology\",\n",
        "    \"Philips\": \"Consumer Electronics & Technology\",\n",
        "    \"Sharp\": \"Consumer Electronics & Technology\",\n",
        "    \"Hisense\": \"Consumer Electronics & Technology\",\n",
        "    \"Vizio\": \"Consumer Electronics & Technology\",\n",
        "    \"TCL\": \"Consumer Electronics & Technology\",\n",
        "    \"Acer\": \"Consumer Electronics & Technology\",\n",
        "    \"ASUS\": \"Consumer Electronics & Technology\",\n",
        "    \"Dell\": \"Consumer Electronics & Technology\",\n",
        "    \"Lenovo\": \"Consumer Electronics & Technology\",\n",
        "    \"Microsoft\": \"Consumer Electronics & Technology\",\n",
        "    \"Google\": \"Consumer Electronics & Technology\",\n",
        "    \"Meta\": \"Consumer Electronics & Technology\",\n",
        "    \"Amazon\": \"Consumer Electronics & Technology\",\n",
        "    \"Nintendo\": \"Consumer Electronics & Technology\",\n",
        "    \"Xbox\": \"Consumer Electronics & Technology\",\n",
        "    \"PlayStation\": \"Consumer Electronics & Technology\",\n",
        "    \"Roku\": \"Consumer Electronics & Technology\",\n",
        "    \"Canon\": \"Consumer Electronics & Technology\",\n",
        "    \"Epson\": \"Consumer Electronics & Technology\",\n",
        "    \"Fujifilm\": \"Consumer Electronics & Technology\",\n",
        "    \"Nikon\": \"Consumer Electronics & Technology\",\n",
        "    \"GoPro\": \"Consumer Electronics & Technology\",\n",
        "    \"Insta360\": \"Consumer Electronics & Technology\",\n",
        "    \"DJI\": \"Consumer Electronics & Technology\",\n",
        "\n",
        "    \"JBL\": \"Audio, Music & Headphones\",\n",
        "    \"Beats\": \"Audio, Music & Headphones\",\n",
        "    \"Bose\": \"Audio, Music & Headphones\",\n",
        "    \"Razer\": \"Audio, Music & Headphones\",\n",
        "    \"Corsair\": \"Audio, Music & Headphones\",\n",
        "    \"SteelSeries\": \"Audio, Music & Headphones\",\n",
        "    \"HyperX\": \"Audio, Music & Headphones\",\n",
        "    \"Audio-Technica\": \"Audio, Music & Headphones\",\n",
        "    \"Shure\": \"Audio, Music & Headphones\",\n",
        "    \"Sennheiser\": \"Audio, Music & Headphones\",\n",
        "    \"AKG\": \"Audio, Music & Headphones\",\n",
        "    \"Skullcandy\": \"Audio, Music & Headphones\",\n",
        "    \"Sonos\": \"Audio, Music & Headphones\",\n",
        "    \"Soundcore\": \"Audio, Music & Headphones\",\n",
        "    \"Marshall\": \"Audio, Music & Headphones\",\n",
        "    \"Rode\": \"Audio, Music & Headphones\",\n",
        "    \"Jabra\": \"Audio, Music & Headphones\",\n",
        "    \"Logitech (G and audio)\": \"Audio, Music & Headphones\",\n",
        "    \"Plantronics\": \"Audio, Music & Headphones\",\n",
        "    \"beyerdynamic\": \"Audio, Music & Headphones\",\n",
        "\n",
        "    \"Seagate\": \"Storage & Components\",\n",
        "    \"Western\": \"Storage & Components\",\n",
        "    \"WD\": \"Storage & Components\",\n",
        "    \"WD_BLACK\": \"Storage & Components\",\n",
        "    \"Crucial\": \"Storage & Components\",\n",
        "    \"Kingston\": \"Storage & Components\",\n",
        "    \"SanDisk\": \"Storage & Components\",\n",
        "    \"Lexar\": \"Storage & Components\",\n",
        "    \"PNY\": \"Storage & Components\",\n",
        "    \"Intel\": \"Storage & Components\",\n",
        "    \"AMD\": \"Storage & Components\",\n",
        "    \"NVIDIA\": \"Storage & Components\",\n",
        "    \"GIGABYTE\": \"Storage & Components\",\n",
        "    \"ASRock\": \"Storage & Components\",\n",
        "    \"MSI\": \"Storage & Components\",\n",
        "    \"EVGA\": \"Storage & Components\",\n",
        "    \"ZOTAC\": \"Storage & Components\",\n",
        "    \"XPG\": \"Storage & Components\",\n",
        "    \"Sabrent\": \"Storage & Components\",\n",
        "\n",
        "    \"Duracell\": \"Energy & Batteries\",\n",
        "    \"Energizer\": \"Energy & Batteries\",\n",
        "    \"Rayovac\": \"Energy & Batteries\",\n",
        "    \"Anker\": \"Energy & Batteries\",\n",
        "    \"Mophie\": \"Energy & Batteries\",\n",
        "    \"CyberPower\": \"Energy & Batteries\",\n",
        "    \"APC\": \"Energy & Batteries\",\n",
        "    \"Eaton\": \"Energy & Batteries\",\n",
        "    \"Tripp\": \"Energy & Batteries\",\n",
        "    \"Powermax\": \"Energy & Batteries\",\n",
        "    \"Renogy\": \"Energy & Batteries\",\n",
        "    \"NOCO\": \"Energy & Batteries\",\n",
        "    \"Seasonic\": \"Energy & Batteries\",\n",
        "\n",
        "    \"TP-Link\": \"Peripherals & Accessories\",\n",
        "    \"NETGEAR\": \"Peripherals & Accessories\",\n",
        "    \"Linksys\": \"Peripherals & Accessories\",\n",
        "    \"Ubiquiti\": \"Peripherals & Accessories\",\n",
        "    \"ARRIS\": \"Peripherals & Accessories\",\n",
        "    \"Ring\": \"Peripherals & Accessories\",\n",
        "    \"Wyze\": \"Peripherals & Accessories\",\n",
        "    \"Arlo\": \"Peripherals & Accessories\",\n",
        "    \"Kasa\": \"Peripherals & Accessories\",\n",
        "    \"Tapo\": \"Peripherals & Accessories\",\n",
        "    \"iOttie\": \"Peripherals & Accessories\",\n",
        "    \"OtterBox\": \"Peripherals & Accessories\",\n",
        "    \"Spigen\": \"Peripherals & Accessories\",\n",
        "    \"Belkin\": \"Peripherals & Accessories\",\n",
        "    \"Baseus\": \"Peripherals & Accessories\",\n",
        "    \"UGREEN\": \"Peripherals & Accessories\",\n",
        "    \"Satechi\": \"Peripherals & Accessories\",\n",
        "    \"Elgato\": \"Peripherals & Accessories\",\n",
        "    \"PopSockets\": \"Peripherals & Accessories\",\n",
        "\n",
        "    \"3M\": \"Home & Office\",\n",
        "    \"Scotch\": \"Home & Office\",\n",
        "    \"Post-it\": \"Home & Office\",\n",
        "    \"Avery\": \"Home & Office\",\n",
        "    \"Pendaflex\": \"Home & Office\",\n",
        "    \"Fellowes\": \"Home & Office\",\n",
        "    \"Swingline\": \"Home & Office\",\n",
        "    \"Staples\": \"Home & Office\",\n",
        "    \"Brother\": \"Home & Office\",\n",
        "    \"DYMO\": \"Home & Office\",\n",
        "    \"Sharpie\": \"Home & Office\",\n",
        "    \"Crayola\": \"Home & Office\",\n",
        "    \"Staedtler\": \"Home & Office\",\n",
        "    \"Pentel\": \"Home & Office\",\n",
        "\n",
        "    \"DEWALT\": \"Tools & Construction\",\n",
        "    \"Black+Decker\": \"Tools & Construction\",\n",
        "    \"Bosch\": \"Tools & Construction\",\n",
        "    \"Stanley\": \"Tools & Construction\",\n",
        "    \"Makita\": \"Tools & Construction\",\n",
        "    \"Milwaukee\": \"Tools & Construction\",\n",
        "    \"Dremel\": \"Tools & Construction\",\n",
        "    \"Klein\": \"Tools & Construction\",\n",
        "    \"Legrand\": \"Tools & Construction\",\n",
        "    \"Schlage\": \"Tools & Construction\",\n",
        "    \"Honeywell\": \"Tools & Construction\",\n",
        "\n",
        "    \"Fila\": \"Fashion & Lifestyle\",\n",
        "    \"adidas\": \"Fashion & Lifestyle\",\n",
        "    \"Nike\": \"Fashion & Lifestyle\",\n",
        "    \"Puma\": \"Fashion & Lifestyle\",\n",
        "    \"Ray-Ban\": \"Fashion & Lifestyle\",\n",
        "    \"Oakley\": \"Fashion & Lifestyle\",\n",
        "    \"SwissGear\": \"Fashion & Lifestyle\",\n",
        "    \"JanSport\": \"Fashion & Lifestyle\",\n",
        "    \"Carhartt\": \"Fashion & Lifestyle\",\n",
        "    \"Wrangler\": \"Fashion & Lifestyle\",\n",
        "\n",
        "    \"Listerine\": \"Health, Hygiene & Personal Care\",\n",
        "    \"Aquaphor\": \"Health, Hygiene & Personal Care\",\n",
        "    \"Kleenex\": \"Health, Hygiene & Personal Care\",\n",
        "    \"Purell\": \"Health, Hygiene & Personal Care\",\n",
        "    \"Braun\": \"Health, Hygiene & Personal Care\",\n",
        "    \"Oral-B\": \"Health, Hygiene & Personal Care\",\n",
        "    \"Dove\": \"Health, Hygiene & Personal Care\",\n",
        "    \"Gojo\": \"Health, Hygiene & Personal Care\",\n",
        "    \"Philips (personal care)\": \"Health, Hygiene & Personal Care\",\n",
        "    \"Remington\": \"Health, Hygiene & Personal Care\",\n",
        "\n",
        "    \"Hasbro\": \"Other / Entertainment & Toys\",\n",
        "    \"Transformers\": \"Other / Entertainment & Toys\",\n",
        "    \"Pokemon\": \"Other / Entertainment & Toys\",\n",
        "    \"Lego\": \"Other / Entertainment & Toys\",\n",
        "    \"Ubisoft\": \"Other / Entertainment & Toys\",\n",
        "    \"Victrola\": \"Other / Entertainment & Toys\",\n",
        "    \"Fender\": \"Other / Entertainment & Toys\",\n",
        "    \"Casio\": \"Other / Entertainment & Toys\",\n",
        "    \"Yamaha\": \"Other / Entertainment & Toys\",\n",
        "    \"Roland\": \"Other / Entertainment & Toys\"\n",
        "}\n",
        "\n",
        "df[\"brand_group\"] = df[\"marca\"].map(brands_map).fillna(\"Other\")"
      ],
      "metadata": {
        "id": "gb4ZBgWLj_zo"
      },
      "execution_count": 60,
      "outputs": []
    },
    {
      "cell_type": "code",
      "source": [
        "cols = (\n",
        "    [\"marca\", \"brand_group\", \"title\", \"price\", \"sales_quantity\"] +\n",
        "    [col for col in df.columns if col not in [\"marca\", \"brand_group\", \"title\", \"price\", \"sales_quantity\"]]\n",
        ")\n",
        "df = df[cols]\n",
        "print(\"Reorganizar Colunas (sales_quantity logo após price)\")"
      ],
      "metadata": {
        "colab": {
          "base_uri": "https://localhost:8080/"
        },
        "id": "iwSb0ZjikA8A",
        "outputId": "64474725-c029-42c7-83c5-9dab1c821703"
      },
      "execution_count": 61,
      "outputs": [
        {
          "output_type": "stream",
          "name": "stdout",
          "text": [
            "Reorganizar Colunas (sales_quantity logo após price)\n"
          ]
        }
      ]
    },
    {
      "cell_type": "code",
      "source": [
        "df[[\"title\", \"title_complement\"]] = df[\"title\"].str.split(\",\", n=1, expand=True)\n",
        "df[\"title\"] = df[\"title\"].str.strip()\n",
        "df[\"title_complement\"] = df[\"title_complement\"].str.strip()\n",
        "print(\"Title dividida em title e title_complement\")"
      ],
      "metadata": {
        "id": "TyAYKrHoDZ1S",
        "outputId": "c2bd7d61-b526-4c38-a3b0-7ed819d4556f",
        "colab": {
          "base_uri": "https://localhost:8080/"
        }
      },
      "execution_count": 62,
      "outputs": [
        {
          "output_type": "stream",
          "name": "stdout",
          "text": [
            "Title dividida em title e title_complement\n"
          ]
        }
      ]
    },
    {
      "cell_type": "code",
      "source": [
        "df_consumer_electronics = df[df[\"brand_group\"] == \"Consumer Electronics & Technology\"]\n",
        "df_audio_music          = df[df[\"brand_group\"] == \"Audio, Music & Headphones\"]\n",
        "df_storage              = df[df[\"brand_group\"] == \"Storage & Components\"]\n",
        "df_energy               = df[df[\"brand_group\"] == \"Energy & Batteries\"]\n",
        "df_peripherals          = df[df[\"brand_group\"] == \"Peripherals & Accessories\"]\n",
        "df_home_office          = df[df[\"brand_group\"] == \"Home & Office\"]\n",
        "df_tools                = df[df[\"brand_group\"] == \"Tools & Construction\"]\n",
        "df_fashion              = df[df[\"brand_group\"] == \"Fashion & Lifestyle\"]\n",
        "df_health               = df[df[\"brand_group\"] == \"Health, Hygiene & Personal Care\"]\n",
        "df_entertainment        = df[df[\"brand_group\"] == \"Other / Entertainment & Toys\"]\n",
        "df_other                = df[df[\"brand_group\"] == \"Other\"]"
      ],
      "metadata": {
        "id": "xl4EQE1rkCRM"
      },
      "execution_count": 63,
      "outputs": []
    },
    {
      "cell_type": "code",
      "source": [
        "df_consumer_electronics.head()"
      ],
      "metadata": {
        "id": "44GG1poMDd-c",
        "outputId": "ee0dc030-2692-40e8-e696-246611099e1f",
        "colab": {
          "base_uri": "https://localhost:8080/",
          "height": 516
        }
      },
      "execution_count": 64,
      "outputs": [
        {
          "output_type": "execute_result",
          "data": {
            "text/plain": [
              "    marca                        brand_group  \\\n",
              "54   Sony  Consumer Electronics & Technology   \n",
              "58   Dell  Consumer Electronics & Technology   \n",
              "67  Epson  Consumer Electronics & Technology   \n",
              "68   Sony  Consumer Electronics & Technology   \n",
              "69   Sony  Consumer Electronics & Technology   \n",
              "\n",
              "                                                title   price  sales_quantity  \\\n",
              "54         - FE 50mm F1.8 Standard Lens (SEL50F18F/2)  273.00               1   \n",
              "58  - Lecteur/Graveur Externe USB2 - DVD±RW (±R DL...   29.24               1   \n",
              "67  - Perfection V39 II - Color Photo and Document...  109.99               1   \n",
              "68  - PlayStation 4 Pro Console (3002470) Jet Blac...    0.00               1   \n",
              "69  - PlayStation 4 Pro Console (3002470) Jet Blac...    0.00               1   \n",
              "\n",
              "    rating number_of_reviews  bought_in_last_month  current/discounted_price  \\\n",
              "54     4.7             1,443                 400.0                    273.00   \n",
              "58     4.5             1,413                 100.0                      0.00   \n",
              "67     4.0             5,204                1000.0                    109.99   \n",
              "68     4.0               354                 100.0                      0.00   \n",
              "69     4.0               355                 100.0                      0.00   \n",
              "\n",
              "    price_on_variant  ...  coupon_discount_percentage  coupon_discount_value  \\\n",
              "54              0.00  ...                         0.0                    0.0   \n",
              "58             29.24  ...                         0.0                    0.0   \n",
              "67              0.00  ...                         0.0                    0.0   \n",
              "68              0.00  ...                         0.0                    0.0   \n",
              "69              0.00  ...                         0.0                    0.0   \n",
              "\n",
              "    energy_efficiency  work_with_alexa  small_business  carbon_impact  \\\n",
              "54                  0                0               0              0   \n",
              "58                  0                0               0              0   \n",
              "67                  0                0               0              0   \n",
              "68                  0                0               0              0   \n",
              "69                  0                0               0              0   \n",
              "\n",
              "    best_seller  amazon_choice  best_seller_discount  \\\n",
              "54            0              0                   0.0   \n",
              "58            0              0                   0.0   \n",
              "67            0              0                   0.0   \n",
              "68            0              0                   0.0   \n",
              "69            0              0                   0.0   \n",
              "\n",
              "                                     title_complement  \n",
              "54                                               None  \n",
              "58                                               None  \n",
              "67  Removable Lid - Scan to Cloud - USB Power - Im...  \n",
              "68                                               None  \n",
              "69                                               None  \n",
              "\n",
              "[5 rows x 24 columns]"
            ],
            "text/html": [
              "\n",
              "  <div id=\"df-a7dbcb4d-4687-401c-afac-fa4e1e3f8301\" class=\"colab-df-container\">\n",
              "    <div>\n",
              "<style scoped>\n",
              "    .dataframe tbody tr th:only-of-type {\n",
              "        vertical-align: middle;\n",
              "    }\n",
              "\n",
              "    .dataframe tbody tr th {\n",
              "        vertical-align: top;\n",
              "    }\n",
              "\n",
              "    .dataframe thead th {\n",
              "        text-align: right;\n",
              "    }\n",
              "</style>\n",
              "<table border=\"1\" class=\"dataframe\">\n",
              "  <thead>\n",
              "    <tr style=\"text-align: right;\">\n",
              "      <th></th>\n",
              "      <th>marca</th>\n",
              "      <th>brand_group</th>\n",
              "      <th>title</th>\n",
              "      <th>price</th>\n",
              "      <th>sales_quantity</th>\n",
              "      <th>rating</th>\n",
              "      <th>number_of_reviews</th>\n",
              "      <th>bought_in_last_month</th>\n",
              "      <th>current/discounted_price</th>\n",
              "      <th>price_on_variant</th>\n",
              "      <th>...</th>\n",
              "      <th>coupon_discount_percentage</th>\n",
              "      <th>coupon_discount_value</th>\n",
              "      <th>energy_efficiency</th>\n",
              "      <th>work_with_alexa</th>\n",
              "      <th>small_business</th>\n",
              "      <th>carbon_impact</th>\n",
              "      <th>best_seller</th>\n",
              "      <th>amazon_choice</th>\n",
              "      <th>best_seller_discount</th>\n",
              "      <th>title_complement</th>\n",
              "    </tr>\n",
              "  </thead>\n",
              "  <tbody>\n",
              "    <tr>\n",
              "      <th>54</th>\n",
              "      <td>Sony</td>\n",
              "      <td>Consumer Electronics &amp; Technology</td>\n",
              "      <td>- FE 50mm F1.8 Standard Lens (SEL50F18F/2)</td>\n",
              "      <td>273.00</td>\n",
              "      <td>1</td>\n",
              "      <td>4.7</td>\n",
              "      <td>1,443</td>\n",
              "      <td>400.0</td>\n",
              "      <td>273.00</td>\n",
              "      <td>0.00</td>\n",
              "      <td>...</td>\n",
              "      <td>0.0</td>\n",
              "      <td>0.0</td>\n",
              "      <td>0</td>\n",
              "      <td>0</td>\n",
              "      <td>0</td>\n",
              "      <td>0</td>\n",
              "      <td>0</td>\n",
              "      <td>0</td>\n",
              "      <td>0.0</td>\n",
              "      <td>None</td>\n",
              "    </tr>\n",
              "    <tr>\n",
              "      <th>58</th>\n",
              "      <td>Dell</td>\n",
              "      <td>Consumer Electronics &amp; Technology</td>\n",
              "      <td>- Lecteur/Graveur Externe USB2 - DVD±RW (±R DL...</td>\n",
              "      <td>29.24</td>\n",
              "      <td>1</td>\n",
              "      <td>4.5</td>\n",
              "      <td>1,413</td>\n",
              "      <td>100.0</td>\n",
              "      <td>0.00</td>\n",
              "      <td>29.24</td>\n",
              "      <td>...</td>\n",
              "      <td>0.0</td>\n",
              "      <td>0.0</td>\n",
              "      <td>0</td>\n",
              "      <td>0</td>\n",
              "      <td>0</td>\n",
              "      <td>0</td>\n",
              "      <td>0</td>\n",
              "      <td>0</td>\n",
              "      <td>0.0</td>\n",
              "      <td>None</td>\n",
              "    </tr>\n",
              "    <tr>\n",
              "      <th>67</th>\n",
              "      <td>Epson</td>\n",
              "      <td>Consumer Electronics &amp; Technology</td>\n",
              "      <td>- Perfection V39 II - Color Photo and Document...</td>\n",
              "      <td>109.99</td>\n",
              "      <td>1</td>\n",
              "      <td>4.0</td>\n",
              "      <td>5,204</td>\n",
              "      <td>1000.0</td>\n",
              "      <td>109.99</td>\n",
              "      <td>0.00</td>\n",
              "      <td>...</td>\n",
              "      <td>0.0</td>\n",
              "      <td>0.0</td>\n",
              "      <td>0</td>\n",
              "      <td>0</td>\n",
              "      <td>0</td>\n",
              "      <td>0</td>\n",
              "      <td>0</td>\n",
              "      <td>0</td>\n",
              "      <td>0.0</td>\n",
              "      <td>Removable Lid - Scan to Cloud - USB Power - Im...</td>\n",
              "    </tr>\n",
              "    <tr>\n",
              "      <th>68</th>\n",
              "      <td>Sony</td>\n",
              "      <td>Consumer Electronics &amp; Technology</td>\n",
              "      <td>- PlayStation 4 Pro Console (3002470) Jet Blac...</td>\n",
              "      <td>0.00</td>\n",
              "      <td>1</td>\n",
              "      <td>4.0</td>\n",
              "      <td>354</td>\n",
              "      <td>100.0</td>\n",
              "      <td>0.00</td>\n",
              "      <td>0.00</td>\n",
              "      <td>...</td>\n",
              "      <td>0.0</td>\n",
              "      <td>0.0</td>\n",
              "      <td>0</td>\n",
              "      <td>0</td>\n",
              "      <td>0</td>\n",
              "      <td>0</td>\n",
              "      <td>0</td>\n",
              "      <td>0</td>\n",
              "      <td>0.0</td>\n",
              "      <td>None</td>\n",
              "    </tr>\n",
              "    <tr>\n",
              "      <th>69</th>\n",
              "      <td>Sony</td>\n",
              "      <td>Consumer Electronics &amp; Technology</td>\n",
              "      <td>- PlayStation 4 Pro Console (3002470) Jet Blac...</td>\n",
              "      <td>0.00</td>\n",
              "      <td>1</td>\n",
              "      <td>4.0</td>\n",
              "      <td>355</td>\n",
              "      <td>100.0</td>\n",
              "      <td>0.00</td>\n",
              "      <td>0.00</td>\n",
              "      <td>...</td>\n",
              "      <td>0.0</td>\n",
              "      <td>0.0</td>\n",
              "      <td>0</td>\n",
              "      <td>0</td>\n",
              "      <td>0</td>\n",
              "      <td>0</td>\n",
              "      <td>0</td>\n",
              "      <td>0</td>\n",
              "      <td>0.0</td>\n",
              "      <td>None</td>\n",
              "    </tr>\n",
              "  </tbody>\n",
              "</table>\n",
              "<p>5 rows × 24 columns</p>\n",
              "</div>\n",
              "    <div class=\"colab-df-buttons\">\n",
              "\n",
              "  <div class=\"colab-df-container\">\n",
              "    <button class=\"colab-df-convert\" onclick=\"convertToInteractive('df-a7dbcb4d-4687-401c-afac-fa4e1e3f8301')\"\n",
              "            title=\"Convert this dataframe to an interactive table.\"\n",
              "            style=\"display:none;\">\n",
              "\n",
              "  <svg xmlns=\"http://www.w3.org/2000/svg\" height=\"24px\" viewBox=\"0 -960 960 960\">\n",
              "    <path d=\"M120-120v-720h720v720H120Zm60-500h600v-160H180v160Zm220 220h160v-160H400v160Zm0 220h160v-160H400v160ZM180-400h160v-160H180v160Zm440 0h160v-160H620v160ZM180-180h160v-160H180v160Zm440 0h160v-160H620v160Z\"/>\n",
              "  </svg>\n",
              "    </button>\n",
              "\n",
              "  <style>\n",
              "    .colab-df-container {\n",
              "      display:flex;\n",
              "      gap: 12px;\n",
              "    }\n",
              "\n",
              "    .colab-df-convert {\n",
              "      background-color: #E8F0FE;\n",
              "      border: none;\n",
              "      border-radius: 50%;\n",
              "      cursor: pointer;\n",
              "      display: none;\n",
              "      fill: #1967D2;\n",
              "      height: 32px;\n",
              "      padding: 0 0 0 0;\n",
              "      width: 32px;\n",
              "    }\n",
              "\n",
              "    .colab-df-convert:hover {\n",
              "      background-color: #E2EBFA;\n",
              "      box-shadow: 0px 1px 2px rgba(60, 64, 67, 0.3), 0px 1px 3px 1px rgba(60, 64, 67, 0.15);\n",
              "      fill: #174EA6;\n",
              "    }\n",
              "\n",
              "    .colab-df-buttons div {\n",
              "      margin-bottom: 4px;\n",
              "    }\n",
              "\n",
              "    [theme=dark] .colab-df-convert {\n",
              "      background-color: #3B4455;\n",
              "      fill: #D2E3FC;\n",
              "    }\n",
              "\n",
              "    [theme=dark] .colab-df-convert:hover {\n",
              "      background-color: #434B5C;\n",
              "      box-shadow: 0px 1px 3px 1px rgba(0, 0, 0, 0.15);\n",
              "      filter: drop-shadow(0px 1px 2px rgba(0, 0, 0, 0.3));\n",
              "      fill: #FFFFFF;\n",
              "    }\n",
              "  </style>\n",
              "\n",
              "    <script>\n",
              "      const buttonEl =\n",
              "        document.querySelector('#df-a7dbcb4d-4687-401c-afac-fa4e1e3f8301 button.colab-df-convert');\n",
              "      buttonEl.style.display =\n",
              "        google.colab.kernel.accessAllowed ? 'block' : 'none';\n",
              "\n",
              "      async function convertToInteractive(key) {\n",
              "        const element = document.querySelector('#df-a7dbcb4d-4687-401c-afac-fa4e1e3f8301');\n",
              "        const dataTable =\n",
              "          await google.colab.kernel.invokeFunction('convertToInteractive',\n",
              "                                                    [key], {});\n",
              "        if (!dataTable) return;\n",
              "\n",
              "        const docLinkHtml = 'Like what you see? Visit the ' +\n",
              "          '<a target=\"_blank\" href=https://colab.research.google.com/notebooks/data_table.ipynb>data table notebook</a>'\n",
              "          + ' to learn more about interactive tables.';\n",
              "        element.innerHTML = '';\n",
              "        dataTable['output_type'] = 'display_data';\n",
              "        await google.colab.output.renderOutput(dataTable, element);\n",
              "        const docLink = document.createElement('div');\n",
              "        docLink.innerHTML = docLinkHtml;\n",
              "        element.appendChild(docLink);\n",
              "      }\n",
              "    </script>\n",
              "  </div>\n",
              "\n",
              "\n",
              "    <div id=\"df-96483143-7265-4960-b8d9-a4a7bcea72e3\">\n",
              "      <button class=\"colab-df-quickchart\" onclick=\"quickchart('df-96483143-7265-4960-b8d9-a4a7bcea72e3')\"\n",
              "                title=\"Suggest charts\"\n",
              "                style=\"display:none;\">\n",
              "\n",
              "<svg xmlns=\"http://www.w3.org/2000/svg\" height=\"24px\"viewBox=\"0 0 24 24\"\n",
              "     width=\"24px\">\n",
              "    <g>\n",
              "        <path d=\"M19 3H5c-1.1 0-2 .9-2 2v14c0 1.1.9 2 2 2h14c1.1 0 2-.9 2-2V5c0-1.1-.9-2-2-2zM9 17H7v-7h2v7zm4 0h-2V7h2v10zm4 0h-2v-4h2v4z\"/>\n",
              "    </g>\n",
              "</svg>\n",
              "      </button>\n",
              "\n",
              "<style>\n",
              "  .colab-df-quickchart {\n",
              "      --bg-color: #E8F0FE;\n",
              "      --fill-color: #1967D2;\n",
              "      --hover-bg-color: #E2EBFA;\n",
              "      --hover-fill-color: #174EA6;\n",
              "      --disabled-fill-color: #AAA;\n",
              "      --disabled-bg-color: #DDD;\n",
              "  }\n",
              "\n",
              "  [theme=dark] .colab-df-quickchart {\n",
              "      --bg-color: #3B4455;\n",
              "      --fill-color: #D2E3FC;\n",
              "      --hover-bg-color: #434B5C;\n",
              "      --hover-fill-color: #FFFFFF;\n",
              "      --disabled-bg-color: #3B4455;\n",
              "      --disabled-fill-color: #666;\n",
              "  }\n",
              "\n",
              "  .colab-df-quickchart {\n",
              "    background-color: var(--bg-color);\n",
              "    border: none;\n",
              "    border-radius: 50%;\n",
              "    cursor: pointer;\n",
              "    display: none;\n",
              "    fill: var(--fill-color);\n",
              "    height: 32px;\n",
              "    padding: 0;\n",
              "    width: 32px;\n",
              "  }\n",
              "\n",
              "  .colab-df-quickchart:hover {\n",
              "    background-color: var(--hover-bg-color);\n",
              "    box-shadow: 0 1px 2px rgba(60, 64, 67, 0.3), 0 1px 3px 1px rgba(60, 64, 67, 0.15);\n",
              "    fill: var(--button-hover-fill-color);\n",
              "  }\n",
              "\n",
              "  .colab-df-quickchart-complete:disabled,\n",
              "  .colab-df-quickchart-complete:disabled:hover {\n",
              "    background-color: var(--disabled-bg-color);\n",
              "    fill: var(--disabled-fill-color);\n",
              "    box-shadow: none;\n",
              "  }\n",
              "\n",
              "  .colab-df-spinner {\n",
              "    border: 2px solid var(--fill-color);\n",
              "    border-color: transparent;\n",
              "    border-bottom-color: var(--fill-color);\n",
              "    animation:\n",
              "      spin 1s steps(1) infinite;\n",
              "  }\n",
              "\n",
              "  @keyframes spin {\n",
              "    0% {\n",
              "      border-color: transparent;\n",
              "      border-bottom-color: var(--fill-color);\n",
              "      border-left-color: var(--fill-color);\n",
              "    }\n",
              "    20% {\n",
              "      border-color: transparent;\n",
              "      border-left-color: var(--fill-color);\n",
              "      border-top-color: var(--fill-color);\n",
              "    }\n",
              "    30% {\n",
              "      border-color: transparent;\n",
              "      border-left-color: var(--fill-color);\n",
              "      border-top-color: var(--fill-color);\n",
              "      border-right-color: var(--fill-color);\n",
              "    }\n",
              "    40% {\n",
              "      border-color: transparent;\n",
              "      border-right-color: var(--fill-color);\n",
              "      border-top-color: var(--fill-color);\n",
              "    }\n",
              "    60% {\n",
              "      border-color: transparent;\n",
              "      border-right-color: var(--fill-color);\n",
              "    }\n",
              "    80% {\n",
              "      border-color: transparent;\n",
              "      border-right-color: var(--fill-color);\n",
              "      border-bottom-color: var(--fill-color);\n",
              "    }\n",
              "    90% {\n",
              "      border-color: transparent;\n",
              "      border-bottom-color: var(--fill-color);\n",
              "    }\n",
              "  }\n",
              "</style>\n",
              "\n",
              "      <script>\n",
              "        async function quickchart(key) {\n",
              "          const quickchartButtonEl =\n",
              "            document.querySelector('#' + key + ' button');\n",
              "          quickchartButtonEl.disabled = true;  // To prevent multiple clicks.\n",
              "          quickchartButtonEl.classList.add('colab-df-spinner');\n",
              "          try {\n",
              "            const charts = await google.colab.kernel.invokeFunction(\n",
              "                'suggestCharts', [key], {});\n",
              "          } catch (error) {\n",
              "            console.error('Error during call to suggestCharts:', error);\n",
              "          }\n",
              "          quickchartButtonEl.classList.remove('colab-df-spinner');\n",
              "          quickchartButtonEl.classList.add('colab-df-quickchart-complete');\n",
              "        }\n",
              "        (() => {\n",
              "          let quickchartButtonEl =\n",
              "            document.querySelector('#df-96483143-7265-4960-b8d9-a4a7bcea72e3 button');\n",
              "          quickchartButtonEl.style.display =\n",
              "            google.colab.kernel.accessAllowed ? 'block' : 'none';\n",
              "        })();\n",
              "      </script>\n",
              "    </div>\n",
              "\n",
              "    </div>\n",
              "  </div>\n"
            ],
            "application/vnd.google.colaboratory.intrinsic+json": {
              "type": "dataframe",
              "variable_name": "df_consumer_electronics"
            }
          },
          "metadata": {},
          "execution_count": 64
        }
      ]
    }
  ]
}